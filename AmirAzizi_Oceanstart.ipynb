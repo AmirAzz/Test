{
  "nbformat": 4,
  "nbformat_minor": 0,
  "metadata": {
    "colab": {
      "provenance": [],
      "authorship_tag": "ABX9TyOZ8x2scCPm9MCvt97CS6WZ",
      "include_colab_link": true
    },
    "kernelspec": {
      "name": "python3",
      "display_name": "Python 3"
    },
    "language_info": {
      "name": "python"
    }
  },
  "cells": [
    {
      "cell_type": "markdown",
      "metadata": {
        "id": "view-in-github",
        "colab_type": "text"
      },
      "source": [
        "<a href=\"https://colab.research.google.com/github/AmirAzz/Test/blob/main/AmirAzizi_Oceanstart.ipynb\" target=\"_parent\"><img src=\"https://colab.research.google.com/assets/colab-badge.svg\" alt=\"Open In Colab\"/></a>"
      ]
    },
    {
      "cell_type": "code",
      "execution_count": null,
      "metadata": {
        "colab": {
          "base_uri": "https://localhost:8080/"
        },
        "id": "WE7Q-GV3_GLd",
        "outputId": "20f7cb07-a7c4-456e-a24b-73b603c4427b"
      },
      "outputs": [
        {
          "output_type": "stream",
          "name": "stdout",
          "text": [
            "Looking in indexes: https://pypi.org/simple, https://us-python.pkg.dev/colab-wheels/public/simple/\n",
            "Requirement already satisfied: xarray in /usr/local/lib/python3.9/dist-packages (2022.12.0)\n",
            "Requirement already satisfied: matplotlib in /usr/local/lib/python3.9/dist-packages (3.7.1)\n",
            "Collecting netcdf4\n",
            "  Downloading netCDF4-1.6.3-cp39-cp39-manylinux_2_17_x86_64.manylinux2014_x86_64.whl (5.2 MB)\n",
            "\u001b[2K     \u001b[90m━━━━━━━━━━━━━━━━━━━━━━━━━━━━━━━━━━━━━━━━\u001b[0m \u001b[32m5.2/5.2 MB\u001b[0m \u001b[31m37.7 MB/s\u001b[0m eta \u001b[36m0:00:00\u001b[0m\n",
            "\u001b[?25hCollecting cmocean\n",
            "  Downloading cmocean-3.0.3-py3-none-any.whl (222 kB)\n",
            "\u001b[2K     \u001b[90m━━━━━━━━━━━━━━━━━━━━━━━━━━━━━━━━━━━━━━\u001b[0m \u001b[32m222.1/222.1 KB\u001b[0m \u001b[31m16.1 MB/s\u001b[0m eta \u001b[36m0:00:00\u001b[0m\n",
            "\u001b[?25hRequirement already satisfied: pandas>=1.3 in /usr/local/lib/python3.9/dist-packages (from xarray) (1.4.4)\n",
            "Requirement already satisfied: packaging>=21.3 in /usr/local/lib/python3.9/dist-packages (from xarray) (23.0)\n",
            "Requirement already satisfied: numpy>=1.20 in /usr/local/lib/python3.9/dist-packages (from xarray) (1.22.4)\n",
            "Requirement already satisfied: kiwisolver>=1.0.1 in /usr/local/lib/python3.9/dist-packages (from matplotlib) (1.4.4)\n",
            "Requirement already satisfied: pillow>=6.2.0 in /usr/local/lib/python3.9/dist-packages (from matplotlib) (8.4.0)\n",
            "Requirement already satisfied: importlib-resources>=3.2.0 in /usr/local/lib/python3.9/dist-packages (from matplotlib) (5.12.0)\n",
            "Requirement already satisfied: pyparsing>=2.3.1 in /usr/local/lib/python3.9/dist-packages (from matplotlib) (3.0.9)\n",
            "Requirement already satisfied: contourpy>=1.0.1 in /usr/local/lib/python3.9/dist-packages (from matplotlib) (1.0.7)\n",
            "Requirement already satisfied: fonttools>=4.22.0 in /usr/local/lib/python3.9/dist-packages (from matplotlib) (4.39.2)\n",
            "Requirement already satisfied: python-dateutil>=2.7 in /usr/local/lib/python3.9/dist-packages (from matplotlib) (2.8.2)\n",
            "Requirement already satisfied: cycler>=0.10 in /usr/local/lib/python3.9/dist-packages (from matplotlib) (0.11.0)\n",
            "Collecting cftime\n",
            "  Downloading cftime-1.6.2-cp39-cp39-manylinux_2_17_x86_64.manylinux2014_x86_64.whl (1.3 MB)\n",
            "\u001b[2K     \u001b[90m━━━━━━━━━━━━━━━━━━━━━━━━━━━━━━━━━━━━━━━━\u001b[0m \u001b[32m1.3/1.3 MB\u001b[0m \u001b[31m37.0 MB/s\u001b[0m eta \u001b[36m0:00:00\u001b[0m\n",
            "\u001b[?25hRequirement already satisfied: zipp>=3.1.0 in /usr/local/lib/python3.9/dist-packages (from importlib-resources>=3.2.0->matplotlib) (3.15.0)\n",
            "Requirement already satisfied: pytz>=2020.1 in /usr/local/lib/python3.9/dist-packages (from pandas>=1.3->xarray) (2022.7.1)\n",
            "Requirement already satisfied: six>=1.5 in /usr/local/lib/python3.9/dist-packages (from python-dateutil>=2.7->matplotlib) (1.16.0)\n",
            "Installing collected packages: cftime, netcdf4, cmocean\n",
            "Successfully installed cftime-1.6.2 cmocean-3.0.3 netcdf4-1.6.3\n"
          ]
        }
      ],
      "source": [
        "!pip install xarray matplotlib netcdf4 cmocean\n"
      ]
    },
    {
      "cell_type": "code",
      "source": [
        "OUTPUT_FILES = {\n",
        "    \"snapshot\": \"4deg.snapshot.nc\",\n",
        "    \"averages\": \"4deg.averages.nc\",\n",
        "    \"overturning\": \"4deg.overturning.nc\",\n",
        "    \"energy\": \"4deg.energy.nc\",}"
      ],
      "metadata": {
        "id": "1KhjGKCZC2FE"
      },
      "execution_count": null,
      "outputs": []
    },
    {
      "cell_type": "code",
      "source": [
        "\n",
        "    snapshot= \"/content/OUTPUT_FILES/4deg.snapshot.nc\"\n",
        "    averages= \"/content/OUTPUT_FILES/4deg.averages.nc\"\n",
        "    overturning= \"/content/OUTPUT_FILES/4deg.overturning.nc\"\n",
        "    energy=\"/content/OUTPUT_FILES/4deg.energy.nc\""
      ],
      "metadata": {
        "id": "6wwQuEiiHWfo"
      },
      "execution_count": null,
      "outputs": []
    },
    {
      "cell_type": "code",
      "source": [
        "import xarray as xr\n",
        "\n",
        "import numpy as np\n",
        "\n",
        "import cmocean"
      ],
      "metadata": {
        "id": "E7CuvbfqC77c"
      },
      "execution_count": null,
      "outputs": []
    },
    {
      "cell_type": "code",
      "source": [
        "OUTPUT_FILES[\"energy\"]"
      ],
      "metadata": {
        "colab": {
          "base_uri": "https://localhost:8080/",
          "height": 35
        },
        "id": "xsWem9k1E75z",
        "outputId": "5512eab7-f6b5-42a3-f3b6-03ac89b5639d"
      },
      "execution_count": null,
      "outputs": [
        {
          "output_type": "execute_result",
          "data": {
            "text/plain": [
              "'4deg.energy.nc'"
            ],
            "application/vnd.google.colaboratory.intrinsic+json": {
              "type": "string"
            }
          },
          "metadata": {},
          "execution_count": 27
        }
      ]
    },
    {
      "cell_type": "code",
      "source": [
        "C = './content/' + OUTPUT_FILES[\"averages\"]\n"
      ],
      "metadata": {
        "id": "sqpzXjVWIkz3"
      },
      "execution_count": null,
      "outputs": []
    },
    {
      "cell_type": "code",
      "source": [
        "print (C)"
      ],
      "metadata": {
        "colab": {
          "base_uri": "https://localhost:8080/"
        },
        "id": "JKqiPCc_I3v2",
        "outputId": "46c3592f-e1d8-4fd8-e92f-0731b3ccafc9"
      },
      "execution_count": null,
      "outputs": [
        {
          "output_type": "stream",
          "name": "stdout",
          "text": [
            "./content/4deg.averages.nc\n"
          ]
        }
      ]
    },
    {
      "cell_type": "code",
      "source": [
        "ds_avg = xr.open_dataset(./content/OUTPUT_FILES/4deg.averages.nc)\n"
      ],
      "metadata": {
        "colab": {
          "base_uri": "https://localhost:8080/",
          "height": 130
        },
        "id": "j_HzMGgoDBYc",
        "outputId": "f102b879-27ad-4c98-a97c-e1e27db135ab"
      },
      "execution_count": null,
      "outputs": [
        {
          "output_type": "error",
          "ename": "SyntaxError",
          "evalue": "ignored",
          "traceback": [
            "\u001b[0;36m  File \u001b[0;32m\"<ipython-input-39-5f4d3b862828>\"\u001b[0;36m, line \u001b[0;32m1\u001b[0m\n\u001b[0;31m    ds_avg = xr.open_dataset(./content/OUTPUT_FILES/4deg.averages.nc)\u001b[0m\n\u001b[0m                             ^\u001b[0m\n\u001b[0;31mSyntaxError\u001b[0m\u001b[0;31m:\u001b[0m invalid syntax\n"
          ]
        }
      ]
    },
    {
      "cell_type": "code",
      "source": [
        "import xarray as xr\n",
        "\n",
        "# Open a netCDF dataset file\n",
        "ds = xr.open_dataset('/content/OUTPUT_FILES/4deg.averages.nc')\n",
        "\n",
        "# Print the dataset information\n",
        "print(ds)"
      ],
      "metadata": {
        "colab": {
          "base_uri": "https://localhost:8080/",
          "height": 432
        },
        "id": "_KUuVTImLJ0j",
        "outputId": "0dab0dd3-a78d-454e-a6bd-a6911c564d3e"
      },
      "execution_count": null,
      "outputs": [
        {
          "output_type": "error",
          "ename": "ValueError",
          "evalue": "ignored",
          "traceback": [
            "\u001b[0;31m---------------------------------------------------------------------------\u001b[0m",
            "\u001b[0;31mValueError\u001b[0m                                Traceback (most recent call last)",
            "\u001b[0;32m<ipython-input-40-4db34fef88d4>\u001b[0m in \u001b[0;36m<module>\u001b[0;34m\u001b[0m\n\u001b[1;32m      2\u001b[0m \u001b[0;34m\u001b[0m\u001b[0m\n\u001b[1;32m      3\u001b[0m \u001b[0;31m# Open a netCDF dataset file\u001b[0m\u001b[0;34m\u001b[0m\u001b[0;34m\u001b[0m\u001b[0m\n\u001b[0;32m----> 4\u001b[0;31m \u001b[0mds\u001b[0m \u001b[0;34m=\u001b[0m \u001b[0mxr\u001b[0m\u001b[0;34m.\u001b[0m\u001b[0mopen_dataset\u001b[0m\u001b[0;34m(\u001b[0m\u001b[0;34m'/content/OUTPUT_FILES/4deg.averages.nc'\u001b[0m\u001b[0;34m)\u001b[0m\u001b[0;34m\u001b[0m\u001b[0;34m\u001b[0m\u001b[0m\n\u001b[0m\u001b[1;32m      5\u001b[0m \u001b[0;34m\u001b[0m\u001b[0m\n\u001b[1;32m      6\u001b[0m \u001b[0;31m# Print the dataset information\u001b[0m\u001b[0;34m\u001b[0m\u001b[0;34m\u001b[0m\u001b[0m\n",
            "\u001b[0;32m/usr/local/lib/python3.9/dist-packages/xarray/backends/api.py\u001b[0m in \u001b[0;36mopen_dataset\u001b[0;34m(filename_or_obj, engine, chunks, cache, decode_cf, mask_and_scale, decode_times, decode_timedelta, use_cftime, concat_characters, decode_coords, drop_variables, inline_array, backend_kwargs, **kwargs)\u001b[0m\n\u001b[1;32m    522\u001b[0m \u001b[0;34m\u001b[0m\u001b[0m\n\u001b[1;32m    523\u001b[0m     \u001b[0;32mif\u001b[0m \u001b[0mengine\u001b[0m \u001b[0;32mis\u001b[0m \u001b[0;32mNone\u001b[0m\u001b[0;34m:\u001b[0m\u001b[0;34m\u001b[0m\u001b[0;34m\u001b[0m\u001b[0m\n\u001b[0;32m--> 524\u001b[0;31m         \u001b[0mengine\u001b[0m \u001b[0;34m=\u001b[0m \u001b[0mplugins\u001b[0m\u001b[0;34m.\u001b[0m\u001b[0mguess_engine\u001b[0m\u001b[0;34m(\u001b[0m\u001b[0mfilename_or_obj\u001b[0m\u001b[0;34m)\u001b[0m\u001b[0;34m\u001b[0m\u001b[0;34m\u001b[0m\u001b[0m\n\u001b[0m\u001b[1;32m    525\u001b[0m \u001b[0;34m\u001b[0m\u001b[0m\n\u001b[1;32m    526\u001b[0m     \u001b[0mbackend\u001b[0m \u001b[0;34m=\u001b[0m \u001b[0mplugins\u001b[0m\u001b[0;34m.\u001b[0m\u001b[0mget_backend\u001b[0m\u001b[0;34m(\u001b[0m\u001b[0mengine\u001b[0m\u001b[0;34m)\u001b[0m\u001b[0;34m\u001b[0m\u001b[0;34m\u001b[0m\u001b[0m\n",
            "\u001b[0;32m/usr/local/lib/python3.9/dist-packages/xarray/backends/plugins.py\u001b[0m in \u001b[0;36mguess_engine\u001b[0;34m(store_spec)\u001b[0m\n\u001b[1;32m    175\u001b[0m         )\n\u001b[1;32m    176\u001b[0m \u001b[0;34m\u001b[0m\u001b[0m\n\u001b[0;32m--> 177\u001b[0;31m     \u001b[0;32mraise\u001b[0m \u001b[0mValueError\u001b[0m\u001b[0;34m(\u001b[0m\u001b[0merror_msg\u001b[0m\u001b[0;34m)\u001b[0m\u001b[0;34m\u001b[0m\u001b[0;34m\u001b[0m\u001b[0m\n\u001b[0m\u001b[1;32m    178\u001b[0m \u001b[0;34m\u001b[0m\u001b[0m\n\u001b[1;32m    179\u001b[0m \u001b[0;34m\u001b[0m\u001b[0m\n",
            "\u001b[0;31mValueError\u001b[0m: did not find a match in any of xarray's currently installed IO backends ['netcdf4', 'h5netcdf', 'scipy']. Consider explicitly selecting one of the installed engines via the ``engine`` parameter, or installing additional IO dependencies, see:\nhttps://docs.xarray.dev/en/stable/getting-started-guide/installing.html\nhttps://docs.xarray.dev/en/stable/user-guide/io.html"
          ]
        }
      ]
    },
    {
      "cell_type": "code",
      "source": [
        "import xarray as xr\n",
        "\n",
        "!pip install netcdf4\n",
        "\n",
        "\n",
        "# Open a netCDF dataset file with the netcdf4 engine\n",
        "ds = xr.open_dataset('/4deg.averages.nc', engine='netcdf4')\n",
        "\n",
        "# Print the dataset information\n",
        "print(ds)"
      ],
      "metadata": {
        "colab": {
          "base_uri": "https://localhost:8080/"
        },
        "id": "o1KGXxElLdby",
        "outputId": "6de385cf-a10a-430d-bd84-9a929f00cd00"
      },
      "execution_count": null,
      "outputs": [
        {
          "output_type": "stream",
          "name": "stdout",
          "text": [
            "Looking in indexes: https://pypi.org/simple, https://us-python.pkg.dev/colab-wheels/public/simple/\n",
            "Requirement already satisfied: netcdf4 in /usr/local/lib/python3.9/dist-packages (1.6.3)\n",
            "Requirement already satisfied: numpy in /usr/local/lib/python3.9/dist-packages (from netcdf4) (1.22.4)\n",
            "Requirement already satisfied: cftime in /usr/local/lib/python3.9/dist-packages (from netcdf4) (1.6.2)\n",
            "<xarray.Dataset>\n",
            "Dimensions:       (Time: 10, isle: 6, nmonths: 12, yu: 40, xu: 90, zt: 15,\n",
            "                   yt: 40, xt: 90, tensor1: 2, tensor2: 2, zw: 15)\n",
            "Coordinates:\n",
            "  * Time          (Time) timedelta64[ns] 32760 days 33120 days ... 36000 days\n",
            "  * isle          (isle) float64 0.0 1.0 2.0 3.0 4.0 5.0\n",
            "  * nmonths       (nmonths) float64 0.0 1.0 2.0 3.0 4.0 ... 8.0 9.0 10.0 11.0\n",
            "  * tensor1       (tensor1) float64 0.0 1.0\n",
            "  * tensor2       (tensor2) float64 0.0 1.0\n",
            "  * xt            (xt) float64 2.0 6.0 10.0 14.0 ... 346.0 350.0 354.0 358.0\n",
            "  * xu            (xu) float64 4.0 8.0 12.0 16.0 ... 348.0 352.0 356.0 360.0\n",
            "  * yt            (yt) float64 -78.0 -74.0 -70.0 -66.0 ... 66.0 70.0 74.0 78.0\n",
            "  * yu            (yu) float64 -76.0 -72.0 -68.0 -64.0 ... 68.0 72.0 76.0 80.0\n",
            "  * zt            (zt) float64 -4.855e+03 -4.165e+03 -3.575e+03 ... -65.0 -35.0\n",
            "  * zw            (zw) float64 -4.51e+03 -3.87e+03 -3.28e+03 ... -50.0 0.0\n",
            "Data variables:\n",
            "    psi           (Time, yu, xu) float64 ...\n",
            "    salt          (Time, zt, yt, xt) float64 ...\n",
            "    surface_taux  (Time, yt, xu) float64 ...\n",
            "    surface_tauy  (Time, yu, xt) float64 ...\n",
            "    temp          (Time, zt, yt, xt) float64 ...\n",
            "    u             (Time, zt, yt, xu) float64 ...\n",
            "    v             (Time, zt, yu, xt) float64 ...\n",
            "    w             (Time, zw, yt, xt) float64 ...\n",
            "Attributes:\n",
            "    date_created:      2021-10-26T12:02:31.193084\n",
            "    veros_version:     1.4.2\n",
            "    setup_identifier:  4deg\n",
            "    history:           Thu Oct 28 16:05:51 2021: ncks -d Time,90,99 4deg.aver...\n",
            "    NCO:               netCDF Operators version 4.8.0 (Homepage = http://nco....\n"
          ]
        }
      ]
    },
    {
      "cell_type": "markdown",
      "source": [
        "/content/4deg.averages.nc"
      ],
      "metadata": {
        "id": "7dQuVEsZFqSJ"
      }
    },
    {
      "cell_type": "code",
      "source": [
        "print(\"averages\")"
      ],
      "metadata": {
        "colab": {
          "base_uri": "https://localhost:8080/"
        },
        "id": "oXTz4J99Ghl5",
        "outputId": "e766405a-b892-427b-aca3-9c8a955df74e"
      },
      "execution_count": null,
      "outputs": [
        {
          "output_type": "stream",
          "name": "stdout",
          "text": [
            "averages\n"
          ]
        }
      ]
    },
    {
      "cell_type": "code",
      "source": [
        "ds[\"psi\"] = ds.psi / 1e6"
      ],
      "metadata": {
        "id": "gUg1vFOXOfRB"
      },
      "execution_count": null,
      "outputs": []
    },
    {
      "cell_type": "code",
      "source": [
        "ds[\"psi\"].attrs[\"units\"] = \"Sv\""
      ],
      "metadata": {
        "id": "qZx7UEVIOw7-"
      },
      "execution_count": null,
      "outputs": []
    },
    {
      "cell_type": "code",
      "source": [
        "ds[\"psi\"].isel(Time=-1).plot.contourf(levels=50, cmap=\"cmo.balance\")"
      ],
      "metadata": {
        "colab": {
          "base_uri": "https://localhost:8080/",
          "height": 325
        },
        "id": "x6mRNqG0O13X",
        "outputId": "8952c979-363b-47de-f941-369838bdae5b"
      },
      "execution_count": null,
      "outputs": [
        {
          "output_type": "execute_result",
          "data": {
            "text/plain": [
              "<matplotlib.contour.QuadContourSet at 0x7fa837dd9a00>"
            ]
          },
          "metadata": {},
          "execution_count": 49
        },
        {
          "output_type": "display_data",
          "data": {
            "text/plain": [
              "<Figure size 432x288 with 2 Axes>"
            ],
            "image/png": "[encoded data removed]"
          },
          "metadata": {
            "needs_background": "light"
          }
        }
      ]
    },
    {
      "cell_type": "code",
      "source": [
        "(\n",
        "    ds[\"salt\"]\n",
        "    .isel(Time=slice(-10,None))\n",
        "    .mean(dim=(\"Time\", \"xt\"))\n",
        "    .plot.contourf(levels=50, cmap=\"cmo.haline\")\n",
        ")\n"
      ],
      "metadata": {
        "colab": {
          "base_uri": "https://localhost:8080/",
          "height": 309
        },
        "id": "S4daVwVwO-R2",
        "outputId": "281b50ef-cab3-48e9-93a0-7153ddec744b"
      },
      "execution_count": null,
      "outputs": [
        {
          "output_type": "execute_result",
          "data": {
            "text/plain": [
              "<matplotlib.contour.QuadContourSet at 0x7fa82fddae50>"
            ]
          },
          "metadata": {},
          "execution_count": 50
        },
        {
          "output_type": "display_data",
          "data": {
            "text/plain": [
              "<Figure size 432x288 with 2 Axes>"
            ],
            "image/png": "[encoded data removed]"
          },
          "metadata": {
            "needs_background": "light"
          }
        }
      ]
    },
    {
      "cell_type": "code",
      "source": [
        "(\n",
        "    ds[\"salt\"]\n",
        "    .isel(Time=slice(-100,None))\n",
        "    .mean(dim=(\"Time\", \"xt\"))\n",
        "    .plot.contourf(levels=50, cmap=\"cmo.haline\")\n",
        ")\n"
      ],
      "metadata": {
        "colab": {
          "base_uri": "https://localhost:8080/",
          "height": 309
        },
        "id": "65beSiO0YTyM",
        "outputId": "85182e99-ec2f-4eb3-b7cc-be7e0d15ea82"
      },
      "execution_count": null,
      "outputs": [
        {
          "output_type": "execute_result",
          "data": {
            "text/plain": [
              "<matplotlib.contour.QuadContourSet at 0x7fa82f3e76d0>"
            ]
          },
          "metadata": {},
          "execution_count": 70
        },
        {
          "output_type": "display_data",
          "data": {
            "text/plain": [
              "<Figure size 432x288 with 2 Axes>"
            ],
            "image/png": "[encoded data removed]"
          },
          "metadata": {
            "needs_background": "light"
          }
        }
      ]
    },
    {
      "cell_type": "code",
      "source": [
        "ds_snap = xr.open_dataset('/4deg.snapshot.nc', engine='netcdf4')\n"
      ],
      "metadata": {
        "id": "Qc_gPAzUPE92"
      },
      "execution_count": null,
      "outputs": []
    },
    {
      "cell_type": "code",
      "source": [
        "weights = ds_snap[\"area_t\"].fillna(0)"
      ],
      "metadata": {
        "id": "-vpQdJD7QRtG"
      },
      "execution_count": null,
      "outputs": []
    },
    {
      "cell_type": "code",
      "source": [
        "temp_weighted = (\n",
        "    ds[\"temp\"]\n",
        "    .isel(Time=-1)\n",
        "    .weighted(weights)\n",
        "    .mean(dim=\"yt\")\n",
        "    .plot.contourf(vmin=-2, vmax=22, levels=25, cmap=\"cmo.thermal\")\n",
        ")"
      ],
      "metadata": {
        "colab": {
          "base_uri": "https://localhost:8080/",
          "height": 295
        },
        "id": "rObdet7xQVF9",
        "outputId": "e330345c-396f-4f9a-edaa-b5ea4b7a03d4"
      },
      "execution_count": null,
      "outputs": [
        {
          "output_type": "display_data",
          "data": {
            "text/plain": [
              "<Figure size 432x288 with 2 Axes>"
            ],
            "image/png": "[encoded data removed]"
          },
          "metadata": {
            "needs_background": "light"
          }
        }
      ]
    },
    {
      "cell_type": "code",
      "source": [
        "ds_ovr = xr.open_dataset('/content/OUTPUT_FILES/4deg.overturning.nc', engine='netcdf4')"
      ],
      "metadata": {
        "id": "_qtTDwVYQjIU"
      },
      "execution_count": null,
      "outputs": []
    },
    {
      "cell_type": "code",
      "source": [
        "ds_ovr"
      ],
      "metadata": {
        "colab": {
          "base_uri": "https://localhost:8080/",
          "height": 634
        },
        "id": "yP2_zjmNQvos",
        "outputId": "53a0be9f-cb45-417e-b28c-ce73f2369dd7"
      },
      "execution_count": null,
      "outputs": [
        {
          "output_type": "execute_result",
          "data": {
            "text/plain": [
              "<xarray.Dataset>\n",
              "Dimensions:      (Time: 100, zw: 15, yu: 40, isle: 6, nmonths: 12, sigma: 60,\n",
              "                  tensor1: 2, tensor2: 2, xt: 90, xu: 90, yt: 40, zt: 15)\n",
              "Coordinates:\n",
              "  * Time         (Time) timedelta64[ns] 360 days 720 days ... 36000 days\n",
              "  * isle         (isle) float64 0.0 1.0 2.0 3.0 4.0 5.0\n",
              "  * nmonths      (nmonths) float64 0.0 1.0 2.0 3.0 4.0 ... 7.0 8.0 9.0 10.0 11.0\n",
              "  * sigma        (sigma) float64 5.804 5.934 6.064 6.195 ... 13.23 13.36 13.49\n",
              "  * tensor1      (tensor1) float64 0.0 1.0\n",
              "  * tensor2      (tensor2) float64 0.0 1.0\n",
              "  * xt           (xt) float64 2.0 6.0 10.0 14.0 18.0 ... 346.0 350.0 354.0 358.0\n",
              "  * xu           (xu) float64 4.0 8.0 12.0 16.0 20.0 ... 348.0 352.0 356.0 360.0\n",
              "  * yt           (yt) float64 -78.0 -74.0 -70.0 -66.0 ... 66.0 70.0 74.0 78.0\n",
              "  * yu           (yu) float64 -76.0 -72.0 -68.0 -64.0 ... 68.0 72.0 76.0 80.0\n",
              "  * zt           (zt) float64 -4.855e+03 -4.165e+03 -3.575e+03 ... -65.0 -35.0\n",
              "  * zw           (zw) float64 -4.51e+03 -3.87e+03 -3.28e+03 ... -120.0 -50.0 0.0\n",
              "Data variables:\n",
              "    bolus_depth  (Time, zw, yu) float64 ...\n",
              "    bolus_iso    (Time, zw, yu) float64 ...\n",
              "    trans        (Time, sigma, yu) float64 ...\n",
              "    vsf_depth    (Time, zw, yu) float64 ...\n",
              "    vsf_iso      (Time, zw, yu) float64 ...\n",
              "    zarea        (Time, zt, yu) float64 ...\n",
              "Attributes:\n",
              "    date_created:      2021-10-26T12:02:33.542479\n",
              "    veros_version:     1.4.2\n",
              "    setup_identifier:  4deg"
            ],
            "text/html": [
              "<div><svg style=\"position: absolute; width: 0; height: 0; overflow: hidden\">\n",
              "<defs>\n",
              "<symbol id=\"icon-database\" viewBox=\"0 0 32 32\">\n",
              "<path d=\"M16 0c-8.837 0-16 2.239-16 5v4c0 2.761 7.163 5 16 5s16-2.239 16-5v-4c0-2.761-7.163-5-16-5z\"></path>\n",
              "<path d=\"M16 17c-8.837 0-16-2.239-16-5v6c0 2.761 7.163 5 16 5s16-2.239 16-5v-6c0 2.761-7.163 5-16 5z\"></path>\n",
              "<path d=\"M16 26c-8.837 0-16-2.239-16-5v6c0 2.761 7.163 5 16 5s16-2.239 16-5v-6c0 2.761-7.163 5-16 5z\"></path>\n",
              "</symbol>\n",
              "<symbol id=\"icon-file-text2\" viewBox=\"0 0 32 32\">\n",
              "<path d=\"M28.681 7.159c-0.694-0.947-1.662-2.053-2.724-3.116s-2.169-2.030-3.116-2.724c-1.612-1.182-2.393-1.319-2.841-1.319h-15.5c-1.378 0-2.5 1.121-2.5 2.5v27c0 1.378 1.122 2.5 2.5 2.5h23c1.378 0 2.5-1.122 2.5-2.5v-19.5c0-0.448-0.137-1.23-1.319-2.841zM24.543 5.457c0.959 0.959 1.712 1.825 2.268 2.543h-4.811v-4.811c0.718 0.556 1.584 1.309 2.543 2.268zM28 29.5c0 0.271-0.229 0.5-0.5 0.5h-23c-0.271 0-0.5-0.229-0.5-0.5v-27c0-0.271 0.229-0.5 0.5-0.5 0 0 15.499-0 15.5 0v7c0 0.552 0.448 1 1 1h7v19.5z\"></path>\n",
              "<path d=\"M23 26h-14c-0.552 0-1-0.448-1-1s0.448-1 1-1h14c0.552 0 1 0.448 1 1s-0.448 1-1 1z\"></path>\n",
              "<path d=\"M23 22h-14c-0.552 0-1-0.448-1-1s0.448-1 1-1h14c0.552 0 1 0.448 1 1s-0.448 1-1 1z\"></path>\n",
              "<path d=\"M23 18h-14c-0.552 0-1-0.448-1-1s0.448-1 1-1h14c0.552 0 1 0.448 1 1s-0.448 1-1 1z\"></path>\n",
              "</symbol>\n",
              "</defs>\n",
              "</svg>\n",
              "<style>/* CSS stylesheet for displaying xarray objects in jupyterlab.\n",
              " *\n",
              " */\n",
              "\n",
              ":root {\n",
              "  --xr-font-color0: var(--jp-content-font-color0, rgba(0, 0, 0, 1));\n",
              "  --xr-font-color2: var(--jp-content-font-color2, rgba(0, 0, 0, 0.54));\n",
              "  --xr-font-color3: var(--jp-content-font-color3, rgba(0, 0, 0, 0.38));\n",
              "  --xr-border-color: var(--jp-border-color2, #e0e0e0);\n",
              "  --xr-disabled-color: var(--jp-layout-color3, #bdbdbd);\n",
              "  --xr-background-color: var(--jp-layout-color0, white);\n",
              "  --xr-background-color-row-even: var(--jp-layout-color1, white);\n",
              "  --xr-background-color-row-odd: var(--jp-layout-color2, #eeeeee);\n",
              "}\n",
              "\n",
              "html[theme=dark],\n",
              "body[data-theme=dark],\n",
              "body.vscode-dark {\n",
              "  --xr-font-color0: rgba(255, 255, 255, 1);\n",
              "  --xr-font-color2: rgba(255, 255, 255, 0.54);\n",
              "  --xr-font-color3: rgba(255, 255, 255, 0.38);\n",
              "  --xr-border-color: #1F1F1F;\n",
              "  --xr-disabled-color: #515151;\n",
              "  --xr-background-color: #111111;\n",
              "  --xr-background-color-row-even: #111111;\n",
              "  --xr-background-color-row-odd: #313131;\n",
              "}\n",
              "\n",
              ".xr-wrap {\n",
              "  display: block !important;\n",
              "  min-width: 300px;\n",
              "  max-width: 700px;\n",
              "}\n",
              "\n",
              ".xr-text-repr-fallback {\n",
              "  /* fallback to plain text repr when CSS is not injected (untrusted notebook) */\n",
              "  display: none;\n",
              "}\n",
              "\n",
              ".xr-header {\n",
              "  padding-top: 6px;\n",
              "  padding-bottom: 6px;\n",
              "  margin-bottom: 4px;\n",
              "  border-bottom: solid 1px var(--xr-border-color);\n",
              "}\n",
              "\n",
              ".xr-header > div,\n",
              ".xr-header > ul {\n",
              "  display: inline;\n",
              "  margin-top: 0;\n",
              "  margin-bottom: 0;\n",
              "}\n",
              "\n",
              ".xr-obj-type,\n",
              ".xr-array-name {\n",
              "  margin-left: 2px;\n",
              "  margin-right: 10px;\n",
              "}\n",
              "\n",
              ".xr-obj-type {\n",
              "  color: var(--xr-font-color2);\n",
              "}\n",
              "\n",
              ".xr-sections {\n",
              "  padding-left: 0 !important;\n",
              "  display: grid;\n",
              "  grid-template-columns: 150px auto auto 1fr 20px 20px;\n",
              "}\n",
              "\n",
              ".xr-section-item {\n",
              "  display: contents;\n",
              "}\n",
              "\n",
              ".xr-section-item input {\n",
              "  display: none;\n",
              "}\n",
              "\n",
              ".xr-section-item input + label {\n",
              "  color: var(--xr-disabled-color);\n",
              "}\n",
              "\n",
              ".xr-section-item input:enabled + label {\n",
              "  cursor: pointer;\n",
              "  color: var(--xr-font-color2);\n",
              "}\n",
              "\n",
              ".xr-section-item input:enabled + label:hover {\n",
              "  color: var(--xr-font-color0);\n",
              "}\n",
              "\n",
              ".xr-section-summary {\n",
              "  grid-column: 1;\n",
              "  color: var(--xr-font-color2);\n",
              "  font-weight: 500;\n",
              "}\n",
              "\n",
              ".xr-section-summary > span {\n",
              "  display: inline-block;\n",
              "  padding-left: 0.5em;\n",
              "}\n",
              "\n",
              ".xr-section-summary-in:disabled + label {\n",
              "  color: var(--xr-font-color2);\n",
              "}\n",
              "\n",
              ".xr-section-summary-in + label:before {\n",
              "  display: inline-block;\n",
              "  content: '►';\n",
              "  font-size: 11px;\n",
              "  width: 15px;\n",
              "  text-align: center;\n",
              "}\n",
              "\n",
              ".xr-section-summary-in:disabled + label:before {\n",
              "  color: var(--xr-disabled-color);\n",
              "}\n",
              "\n",
              ".xr-section-summary-in:checked + label:before {\n",
              "  content: '▼';\n",
              "}\n",
              "\n",
              ".xr-section-summary-in:checked + label > span {\n",
              "  display: none;\n",
              "}\n",
              "\n",
              ".xr-section-summary,\n",
              ".xr-section-inline-details {\n",
              "  padding-top: 4px;\n",
              "  padding-bottom: 4px;\n",
              "}\n",
              "\n",
              ".xr-section-inline-details {\n",
              "  grid-column: 2 / -1;\n",
              "}\n",
              "\n",
              ".xr-section-details {\n",
              "  display: none;\n",
              "  grid-column: 1 / -1;\n",
              "  margin-bottom: 5px;\n",
              "}\n",
              "\n",
              ".xr-section-summary-in:checked ~ .xr-section-details {\n",
              "  display: contents;\n",
              "}\n",
              "\n",
              ".xr-array-wrap {\n",
              "  grid-column: 1 / -1;\n",
              "  display: grid;\n",
              "  grid-template-columns: 20px auto;\n",
              "}\n",
              "\n",
              ".xr-array-wrap > label {\n",
              "  grid-column: 1;\n",
              "  vertical-align: top;\n",
              "}\n",
              "\n",
              ".xr-preview {\n",
              "  color: var(--xr-font-color3);\n",
              "}\n",
              "\n",
              ".xr-array-preview,\n",
              ".xr-array-data {\n",
              "  padding: 0 5px !important;\n",
              "  grid-column: 2;\n",
              "}\n",
              "\n",
              ".xr-array-data,\n",
              ".xr-array-in:checked ~ .xr-array-preview {\n",
              "  display: none;\n",
              "}\n",
              "\n",
              ".xr-array-in:checked ~ .xr-array-data,\n",
              ".xr-array-preview {\n",
              "  display: inline-block;\n",
              "}\n",
              "\n",
              ".xr-dim-list {\n",
              "  display: inline-block !important;\n",
              "  list-style: none;\n",
              "  padding: 0 !important;\n",
              "  margin: 0;\n",
              "}\n",
              "\n",
              ".xr-dim-list li {\n",
              "  display: inline-block;\n",
              "  padding: 0;\n",
              "  margin: 0;\n",
              "}\n",
              "\n",
              ".xr-dim-list:before {\n",
              "  content: '(';\n",
              "}\n",
              "\n",
              ".xr-dim-list:after {\n",
              "  content: ')';\n",
              "}\n",
              "\n",
              ".xr-dim-list li:not(:last-child):after {\n",
              "  content: ',';\n",
              "  padding-right: 5px;\n",
              "}\n",
              "\n",
              ".xr-has-index {\n",
              "  font-weight: bold;\n",
              "}\n",
              "\n",
              ".xr-var-list,\n",
              ".xr-var-item {\n",
              "  display: contents;\n",
              "}\n",
              "\n",
              ".xr-var-item > div,\n",
              ".xr-var-item label,\n",
              ".xr-var-item > .xr-var-name span {\n",
              "  background-color: var(--xr-background-color-row-even);\n",
              "  margin-bottom: 0;\n",
              "}\n",
              "\n",
              ".xr-var-item > .xr-var-name:hover span {\n",
              "  padding-right: 5px;\n",
              "}\n",
              "\n",
              ".xr-var-list > li:nth-child(odd) > div,\n",
              ".xr-var-list > li:nth-child(odd) > label,\n",
              ".xr-var-list > li:nth-child(odd) > .xr-var-name span {\n",
              "  background-color: var(--xr-background-color-row-odd);\n",
              "}\n",
              "\n",
              ".xr-var-name {\n",
              "  grid-column: 1;\n",
              "}\n",
              "\n",
              ".xr-var-dims {\n",
              "  grid-column: 2;\n",
              "}\n",
              "\n",
              ".xr-var-dtype {\n",
              "  grid-column: 3;\n",
              "  text-align: right;\n",
              "  color: var(--xr-font-color2);\n",
              "}\n",
              "\n",
              ".xr-var-preview {\n",
              "  grid-column: 4;\n",
              "}\n",
              "\n",
              ".xr-index-preview {\n",
              "  grid-column: 2 / 5;\n",
              "  color: var(--xr-font-color2);\n",
              "}\n",
              "\n",
              ".xr-var-name,\n",
              ".xr-var-dims,\n",
              ".xr-var-dtype,\n",
              ".xr-preview,\n",
              ".xr-attrs dt {\n",
              "  white-space: nowrap;\n",
              "  overflow: hidden;\n",
              "  text-overflow: ellipsis;\n",
              "  padding-right: 10px;\n",
              "}\n",
              "\n",
              ".xr-var-name:hover,\n",
              ".xr-var-dims:hover,\n",
              ".xr-var-dtype:hover,\n",
              ".xr-attrs dt:hover {\n",
              "  overflow: visible;\n",
              "  width: auto;\n",
              "  z-index: 1;\n",
              "}\n",
              "\n",
              ".xr-var-attrs,\n",
              ".xr-var-data,\n",
              ".xr-index-data {\n",
              "  display: none;\n",
              "  background-color: var(--xr-background-color) !important;\n",
              "  padding-bottom: 5px !important;\n",
              "}\n",
              "\n",
              ".xr-var-attrs-in:checked ~ .xr-var-attrs,\n",
              ".xr-var-data-in:checked ~ .xr-var-data,\n",
              ".xr-index-data-in:checked ~ .xr-index-data {\n",
              "  display: block;\n",
              "}\n",
              "\n",
              ".xr-var-data > table {\n",
              "  float: right;\n",
              "}\n",
              "\n",
              ".xr-var-name span,\n",
              ".xr-var-data,\n",
              ".xr-index-name div,\n",
              ".xr-index-data,\n",
              ".xr-attrs {\n",
              "  padding-left: 25px !important;\n",
              "}\n",
              "\n",
              ".xr-attrs,\n",
              ".xr-var-attrs,\n",
              ".xr-var-data,\n",
              ".xr-index-data {\n",
              "  grid-column: 1 / -1;\n",
              "}\n",
              "\n",
              "dl.xr-attrs {\n",
              "  padding: 0;\n",
              "  margin: 0;\n",
              "  display: grid;\n",
              "  grid-template-columns: 125px auto;\n",
              "}\n",
              "\n",
              ".xr-attrs dt,\n",
              ".xr-attrs dd {\n",
              "  padding: 0;\n",
              "  margin: 0;\n",
              "  float: left;\n",
              "  padding-right: 10px;\n",
              "  width: auto;\n",
              "}\n",
              "\n",
              ".xr-attrs dt {\n",
              "  font-weight: normal;\n",
              "  grid-column: 1;\n",
              "}\n",
              "\n",
              ".xr-attrs dt:hover span {\n",
              "  display: inline-block;\n",
              "  background: var(--xr-background-color);\n",
              "  padding-right: 10px;\n",
              "}\n",
              "\n",
              ".xr-attrs dd {\n",
              "  grid-column: 2;\n",
              "  white-space: pre-wrap;\n",
              "  word-break: break-all;\n",
              "}\n",
              "\n",
              ".xr-icon-database,\n",
              ".xr-icon-file-text2,\n",
              ".xr-no-icon {\n",
              "  display: inline-block;\n",
              "  vertical-align: middle;\n",
              "  width: 1em;\n",
              "  height: 1.5em !important;\n",
              "  stroke-width: 0;\n",
              "  stroke: currentColor;\n",
              "  fill: currentColor;\n",
              "}\n",
              "</style><pre class='xr-text-repr-fallback'>&lt;xarray.Dataset&gt;\n",
              "Dimensions:      (Time: 100, zw: 15, yu: 40, isle: 6, nmonths: 12, sigma: 60,\n",
              "                  tensor1: 2, tensor2: 2, xt: 90, xu: 90, yt: 40, zt: 15)\n",
              "Coordinates:\n",
              "  * Time         (Time) timedelta64[ns] 360 days 720 days ... 36000 days\n",
              "  * isle         (isle) float64 0.0 1.0 2.0 3.0 4.0 5.0\n",
              "  * nmonths      (nmonths) float64 0.0 1.0 2.0 3.0 4.0 ... 7.0 8.0 9.0 10.0 11.0\n",
              "  * sigma        (sigma) float64 5.804 5.934 6.064 6.195 ... 13.23 13.36 13.49\n",
              "  * tensor1      (tensor1) float64 0.0 1.0\n",
              "  * tensor2      (tensor2) float64 0.0 1.0\n",
              "  * xt           (xt) float64 2.0 6.0 10.0 14.0 18.0 ... 346.0 350.0 354.0 358.0\n",
              "  * xu           (xu) float64 4.0 8.0 12.0 16.0 20.0 ... 348.0 352.0 356.0 360.0\n",
              "  * yt           (yt) float64 -78.0 -74.0 -70.0 -66.0 ... 66.0 70.0 74.0 78.0\n",
              "  * yu           (yu) float64 -76.0 -72.0 -68.0 -64.0 ... 68.0 72.0 76.0 80.0\n",
              "  * zt           (zt) float64 -4.855e+03 -4.165e+03 -3.575e+03 ... -65.0 -35.0\n",
              "  * zw           (zw) float64 -4.51e+03 -3.87e+03 -3.28e+03 ... -120.0 -50.0 0.0\n",
              "Data variables:\n",
              "    bolus_depth  (Time, zw, yu) float64 ...\n",
              "    bolus_iso    (Time, zw, yu) float64 ...\n",
              "    trans        (Time, sigma, yu) float64 ...\n",
              "    vsf_depth    (Time, zw, yu) float64 ...\n",
              "    vsf_iso      (Time, zw, yu) float64 ...\n",
              "    zarea        (Time, zt, yu) float64 ...\n",
              "Attributes:\n",
              "    date_created:      2021-10-26T12:02:33.542479\n",
              "    veros_version:     1.4.2\n",
              "    setup_identifier:  4deg</pre><div class='xr-wrap' style='display:none'><div class='xr-header'><div class='xr-obj-type'>xarray.Dataset</div></div><ul class='xr-sections'><li class='xr-section-item'><input id='section-c17a4da3-bb5d-4efd-b79c-c5c4c4f0cc9a' class='xr-section-summary-in' type='checkbox' disabled ><label for='section-c17a4da3-bb5d-4efd-b79c-c5c4c4f0cc9a' class='xr-section-summary'  title='Expand/collapse section'>Dimensions:</label><div class='xr-section-inline-details'><ul class='xr-dim-list'><li><span class='xr-has-index'>Time</span>: 100</li><li><span class='xr-has-index'>zw</span>: 15</li><li><span class='xr-has-index'>yu</span>: 40</li><li><span class='xr-has-index'>isle</span>: 6</li><li><span class='xr-has-index'>nmonths</span>: 12</li><li><span class='xr-has-index'>sigma</span>: 60</li><li><span class='xr-has-index'>tensor1</span>: 2</li><li><span class='xr-has-index'>tensor2</span>: 2</li><li><span class='xr-has-index'>xt</span>: 90</li><li><span class='xr-has-index'>xu</span>: 90</li><li><span class='xr-has-index'>yt</span>: 40</li><li><span class='xr-has-index'>zt</span>: 15</li></ul></div><div class='xr-section-details'></div></li><li class='xr-section-item'><input id='section-16346ad8-bd59-42d8-8b8e-896be3d05839' class='xr-section-summary-in' type='checkbox'  checked><label for='section-16346ad8-bd59-42d8-8b8e-896be3d05839' class='xr-section-summary' >Coordinates: <span>(12)</span></label><div class='xr-section-inline-details'></div><div class='xr-section-details'><ul class='xr-var-list'><li class='xr-var-item'><div class='xr-var-name'><span class='xr-has-index'>Time</span></div><div class='xr-var-dims'>(Time)</div><div class='xr-var-dtype'>timedelta64[ns]</div><div class='xr-var-preview xr-preview'>360 days 720 days ... 36000 days</div><input id='attrs-14396048-02a5-4ecc-98fc-0d4af3165d74' class='xr-var-attrs-in' type='checkbox' ><label for='attrs-14396048-02a5-4ecc-98fc-0d4af3165d74' title='Show/Hide attributes'><svg class='icon xr-icon-file-text2'><use xlink:href='#icon-file-text2'></use></svg></label><input id='data-6f77155a-92a6-4aa7-8bd1-ad83373a0193' class='xr-var-data-in' type='checkbox'><label for='data-6f77155a-92a6-4aa7-8bd1-ad83373a0193' title='Show/Hide data repr'><svg class='icon xr-icon-database'><use xlink:href='#icon-database'></use></svg></label><div class='xr-var-attrs'><dl class='xr-attrs'><dt><span>long_name :</span></dt><dd>Time</dd><dt><span>time_origin :</span></dt><dd>01-JAN-1900 00:00:00</dd></dl></div><div class='xr-var-data'><pre>array([  31104000000000000,   62208000000000000,   93312000000000000,\n",
              "        124416000000000000,  155520000000000000,  186624000000000000,\n",
              "        217728000000000000,  248832000000000000,  279936000000000000,\n",
              "        311040000000000000,  342144000000000000,  373248000000000000,\n",
              "        404352000000000000,  435456000000000000,  466560000000000000,\n",
              "        497664000000000000,  528768000000000000,  559872000000000000,\n",
              "        590976000000000000,  622080000000000000,  653184000000000000,\n",
              "        684288000000000000,  715392000000000000,  746496000000000000,\n",
              "        777600000000000000,  808704000000000000,  839808000000000000,\n",
              "        870912000000000000,  902016000000000000,  933120000000000000,\n",
              "        964224000000000000,  995328000000000000, 1026432000000000000,\n",
              "       1057536000000000000, 1088640000000000000, 1119744000000000000,\n",
              "       1150848000000000000, 1181952000000000000, 1213056000000000000,\n",
              "       1244160000000000000, 1275264000000000000, 1306368000000000000,\n",
              "       1337472000000000000, 1368576000000000000, 1399680000000000000,\n",
              "       1430784000000000000, 1461888000000000000, 1492992000000000000,\n",
              "       1524096000000000000, 1555200000000000000, 1586304000000000000,\n",
              "       1617408000000000000, 1648512000000000000, 1679616000000000000,\n",
              "       1710720000000000000, 1741824000000000000, 1772928000000000000,\n",
              "       1804032000000000000, 1835136000000000000, 1866240000000000000,\n",
              "       1897344000000000000, 1928448000000000000, 1959552000000000000,\n",
              "       1990656000000000000, 2021760000000000000, 2052864000000000000,\n",
              "       2083968000000000000, 2115072000000000000, 2146176000000000000,\n",
              "       2177280000000000000, 2208384000000000000, 2239488000000000000,\n",
              "       2270592000000000000, 2301696000000000000, 2332800000000000000,\n",
              "       2363904000000000000, 2395008000000000000, 2426112000000000000,\n",
              "       2457216000000000000, 2488320000000000000, 2519424000000000000,\n",
              "       2550528000000000000, 2581632000000000000, 2612736000000000000,\n",
              "       2643840000000000000, 2674944000000000000, 2706048000000000000,\n",
              "       2737152000000000000, 2768256000000000000, 2799360000000000000,\n",
              "       2830464000000000000, 2861568000000000000, 2892672000000000000,\n",
              "       2923776000000000000, 2954880000000000000, 2985984000000000000,\n",
              "       3017088000000000000, 3048192000000000000, 3079296000000000000,\n",
              "       3110400000000000000], dtype=&#x27;timedelta64[ns]&#x27;)</pre></div></li><li class='xr-var-item'><div class='xr-var-name'><span class='xr-has-index'>isle</span></div><div class='xr-var-dims'>(isle)</div><div class='xr-var-dtype'>float64</div><div class='xr-var-preview xr-preview'>0.0 1.0 2.0 3.0 4.0 5.0</div><input id='attrs-3f27f210-15a1-4872-8998-ff75217d6b34' class='xr-var-attrs-in' type='checkbox' ><label for='attrs-3f27f210-15a1-4872-8998-ff75217d6b34' title='Show/Hide attributes'><svg class='icon xr-icon-file-text2'><use xlink:href='#icon-file-text2'></use></svg></label><input id='data-56294f9e-033a-48b5-93a2-fb17acf81fb3' class='xr-var-data-in' type='checkbox'><label for='data-56294f9e-033a-48b5-93a2-fb17acf81fb3' title='Show/Hide data repr'><svg class='icon xr-icon-database'><use xlink:href='#icon-database'></use></svg></label><div class='xr-var-attrs'><dl class='xr-attrs'><dt><span>long_name :</span></dt><dd>Island number</dd><dt><span>units :</span></dt><dd></dd></dl></div><div class='xr-var-data'><pre>array([0., 1., 2., 3., 4., 5.])</pre></div></li><li class='xr-var-item'><div class='xr-var-name'><span class='xr-has-index'>nmonths</span></div><div class='xr-var-dims'>(nmonths)</div><div class='xr-var-dtype'>float64</div><div class='xr-var-preview xr-preview'>0.0 1.0 2.0 3.0 ... 9.0 10.0 11.0</div><input id='attrs-c7bd9b08-1a95-4f79-a437-bb1d8788a9d1' class='xr-var-attrs-in' type='checkbox' ><label for='attrs-c7bd9b08-1a95-4f79-a437-bb1d8788a9d1' title='Show/Hide attributes'><svg class='icon xr-icon-file-text2'><use xlink:href='#icon-file-text2'></use></svg></label><input id='data-9a8bb920-7c93-4c1d-afec-4cf270266155' class='xr-var-data-in' type='checkbox'><label for='data-9a8bb920-7c93-4c1d-afec-4cf270266155' title='Show/Hide data repr'><svg class='icon xr-icon-database'><use xlink:href='#icon-database'></use></svg></label><div class='xr-var-attrs'><dl class='xr-attrs'><dt><span>long_name :</span></dt><dd>nmonths</dd><dt><span>units :</span></dt><dd></dd></dl></div><div class='xr-var-data'><pre>array([ 0.,  1.,  2.,  3.,  4.,  5.,  6.,  7.,  8.,  9., 10., 11.])</pre></div></li><li class='xr-var-item'><div class='xr-var-name'><span class='xr-has-index'>sigma</span></div><div class='xr-var-dims'>(sigma)</div><div class='xr-var-dtype'>float64</div><div class='xr-var-preview xr-preview'>5.804 5.934 6.064 ... 13.36 13.49</div><input id='attrs-5c623d8a-53ec-4295-a14c-d8448b777c9d' class='xr-var-attrs-in' type='checkbox' ><label for='attrs-5c623d8a-53ec-4295-a14c-d8448b777c9d' title='Show/Hide attributes'><svg class='icon xr-icon-file-text2'><use xlink:href='#icon-file-text2'></use></svg></label><input id='data-e73866d5-e26e-4cac-9a82-b037023c04bb' class='xr-var-data-in' type='checkbox'><label for='data-e73866d5-e26e-4cac-9a82-b037023c04bb' title='Show/Hide data repr'><svg class='icon xr-icon-database'><use xlink:href='#icon-database'></use></svg></label><div class='xr-var-attrs'><dl class='xr-attrs'><dt><span>long_name :</span></dt><dd>sigma</dd><dt><span>units :</span></dt><dd></dd></dl></div><div class='xr-var-data'><pre>array([ 5.803854,  5.934171,  6.064489,  6.194807,  6.325125,  6.455442,\n",
              "        6.58576 ,  6.716078,  6.846396,  6.976714,  7.107031,  7.237349,\n",
              "        7.367667,  7.497985,  7.628303,  7.75862 ,  7.888938,  8.019256,\n",
              "        8.149574,  8.279891,  8.410209,  8.540527,  8.670845,  8.801163,\n",
              "        8.93148 ,  9.061798,  9.192116,  9.322434,  9.452751,  9.583069,\n",
              "        9.713387,  9.843705,  9.974023, 10.10434 , 10.234658, 10.364976,\n",
              "       10.495294, 10.625612, 10.755929, 10.886247, 11.016565, 11.146883,\n",
              "       11.2772  , 11.407518, 11.537836, 11.668154, 11.798472, 11.928789,\n",
              "       12.059107, 12.189425, 12.319743, 12.450061, 12.580378, 12.710696,\n",
              "       12.841014, 12.971332, 13.101649, 13.231967, 13.362285, 13.492603])</pre></div></li><li class='xr-var-item'><div class='xr-var-name'><span class='xr-has-index'>tensor1</span></div><div class='xr-var-dims'>(tensor1)</div><div class='xr-var-dtype'>float64</div><div class='xr-var-preview xr-preview'>0.0 1.0</div><input id='attrs-a24a84ed-8a6f-4bf7-ab52-5fbc35ddb0ac' class='xr-var-attrs-in' type='checkbox' ><label for='attrs-a24a84ed-8a6f-4bf7-ab52-5fbc35ddb0ac' title='Show/Hide attributes'><svg class='icon xr-icon-file-text2'><use xlink:href='#icon-file-text2'></use></svg></label><input id='data-39c96869-fdd4-46fe-bc8e-ef8e67f10423' class='xr-var-data-in' type='checkbox'><label for='data-39c96869-fdd4-46fe-bc8e-ef8e67f10423' title='Show/Hide data repr'><svg class='icon xr-icon-database'><use xlink:href='#icon-database'></use></svg></label><div class='xr-var-attrs'><dl class='xr-attrs'><dt><span>long_name :</span></dt><dd>tensor1</dd><dt><span>units :</span></dt><dd></dd></dl></div><div class='xr-var-data'><pre>array([0., 1.])</pre></div></li><li class='xr-var-item'><div class='xr-var-name'><span class='xr-has-index'>tensor2</span></div><div class='xr-var-dims'>(tensor2)</div><div class='xr-var-dtype'>float64</div><div class='xr-var-preview xr-preview'>0.0 1.0</div><input id='attrs-5f542b97-145b-4fc0-b085-94102aadd84e' class='xr-var-attrs-in' type='checkbox' ><label for='attrs-5f542b97-145b-4fc0-b085-94102aadd84e' title='Show/Hide attributes'><svg class='icon xr-icon-file-text2'><use xlink:href='#icon-file-text2'></use></svg></label><input id='data-8bd3e2d4-b7ab-4559-becb-b4b72d1f9d7d' class='xr-var-data-in' type='checkbox'><label for='data-8bd3e2d4-b7ab-4559-becb-b4b72d1f9d7d' title='Show/Hide data repr'><svg class='icon xr-icon-database'><use xlink:href='#icon-database'></use></svg></label><div class='xr-var-attrs'><dl class='xr-attrs'><dt><span>long_name :</span></dt><dd>tensor2</dd><dt><span>units :</span></dt><dd></dd></dl></div><div class='xr-var-data'><pre>array([0., 1.])</pre></div></li><li class='xr-var-item'><div class='xr-var-name'><span class='xr-has-index'>xt</span></div><div class='xr-var-dims'>(xt)</div><div class='xr-var-dtype'>float64</div><div class='xr-var-preview xr-preview'>2.0 6.0 10.0 ... 350.0 354.0 358.0</div><input id='attrs-1ded5549-9316-479f-9101-954505680685' class='xr-var-attrs-in' type='checkbox' ><label for='attrs-1ded5549-9316-479f-9101-954505680685' title='Show/Hide attributes'><svg class='icon xr-icon-file-text2'><use xlink:href='#icon-file-text2'></use></svg></label><input id='data-5c23ac4f-5ee8-4ba5-8daf-e007799cce72' class='xr-var-data-in' type='checkbox'><label for='data-5c23ac4f-5ee8-4ba5-8daf-e007799cce72' title='Show/Hide data repr'><svg class='icon xr-icon-database'><use xlink:href='#icon-database'></use></svg></label><div class='xr-var-attrs'><dl class='xr-attrs'><dt><span>long_name :</span></dt><dd>Zonal coordinate (T)</dd><dt><span>units :</span></dt><dd>degrees_east</dd></dl></div><div class='xr-var-data'><pre>array([  2.,   6.,  10.,  14.,  18.,  22.,  26.,  30.,  34.,  38.,  42.,  46.,\n",
              "        50.,  54.,  58.,  62.,  66.,  70.,  74.,  78.,  82.,  86.,  90.,  94.,\n",
              "        98., 102., 106., 110., 114., 118., 122., 126., 130., 134., 138., 142.,\n",
              "       146., 150., 154., 158., 162., 166., 170., 174., 178., 182., 186., 190.,\n",
              "       194., 198., 202., 206., 210., 214., 218., 222., 226., 230., 234., 238.,\n",
              "       242., 246., 250., 254., 258., 262., 266., 270., 274., 278., 282., 286.,\n",
              "       290., 294., 298., 302., 306., 310., 314., 318., 322., 326., 330., 334.,\n",
              "       338., 342., 346., 350., 354., 358.])</pre></div></li><li class='xr-var-item'><div class='xr-var-name'><span class='xr-has-index'>xu</span></div><div class='xr-var-dims'>(xu)</div><div class='xr-var-dtype'>float64</div><div class='xr-var-preview xr-preview'>4.0 8.0 12.0 ... 352.0 356.0 360.0</div><input id='attrs-b5e26b8a-735c-4089-bf6a-a38bce9d36b0' class='xr-var-attrs-in' type='checkbox' ><label for='attrs-b5e26b8a-735c-4089-bf6a-a38bce9d36b0' title='Show/Hide attributes'><svg class='icon xr-icon-file-text2'><use xlink:href='#icon-file-text2'></use></svg></label><input id='data-961aa540-de68-494f-8360-f384aa21a124' class='xr-var-data-in' type='checkbox'><label for='data-961aa540-de68-494f-8360-f384aa21a124' title='Show/Hide data repr'><svg class='icon xr-icon-database'><use xlink:href='#icon-database'></use></svg></label><div class='xr-var-attrs'><dl class='xr-attrs'><dt><span>long_name :</span></dt><dd>Zonal coordinate (U)</dd><dt><span>units :</span></dt><dd>degrees_east</dd></dl></div><div class='xr-var-data'><pre>array([  4.,   8.,  12.,  16.,  20.,  24.,  28.,  32.,  36.,  40.,  44.,  48.,\n",
              "        52.,  56.,  60.,  64.,  68.,  72.,  76.,  80.,  84.,  88.,  92.,  96.,\n",
              "       100., 104., 108., 112., 116., 120., 124., 128., 132., 136., 140., 144.,\n",
              "       148., 152., 156., 160., 164., 168., 172., 176., 180., 184., 188., 192.,\n",
              "       196., 200., 204., 208., 212., 216., 220., 224., 228., 232., 236., 240.,\n",
              "       244., 248., 252., 256., 260., 264., 268., 272., 276., 280., 284., 288.,\n",
              "       292., 296., 300., 304., 308., 312., 316., 320., 324., 328., 332., 336.,\n",
              "       340., 344., 348., 352., 356., 360.])</pre></div></li><li class='xr-var-item'><div class='xr-var-name'><span class='xr-has-index'>yt</span></div><div class='xr-var-dims'>(yt)</div><div class='xr-var-dtype'>float64</div><div class='xr-var-preview xr-preview'>-78.0 -74.0 -70.0 ... 74.0 78.0</div><input id='attrs-c0f003e6-6f0d-4e8f-9c55-c4e9742acbe9' class='xr-var-attrs-in' type='checkbox' ><label for='attrs-c0f003e6-6f0d-4e8f-9c55-c4e9742acbe9' title='Show/Hide attributes'><svg class='icon xr-icon-file-text2'><use xlink:href='#icon-file-text2'></use></svg></label><input id='data-81062462-7da4-46eb-a26c-f3d188b0efa0' class='xr-var-data-in' type='checkbox'><label for='data-81062462-7da4-46eb-a26c-f3d188b0efa0' title='Show/Hide data repr'><svg class='icon xr-icon-database'><use xlink:href='#icon-database'></use></svg></label><div class='xr-var-attrs'><dl class='xr-attrs'><dt><span>long_name :</span></dt><dd>Meridional coordinate (T)</dd><dt><span>units :</span></dt><dd>degrees_north</dd></dl></div><div class='xr-var-data'><pre>array([-78., -74., -70., -66., -62., -58., -54., -50., -46., -42., -38., -34.,\n",
              "       -30., -26., -22., -18., -14., -10.,  -6.,  -2.,   2.,   6.,  10.,  14.,\n",
              "        18.,  22.,  26.,  30.,  34.,  38.,  42.,  46.,  50.,  54.,  58.,  62.,\n",
              "        66.,  70.,  74.,  78.])</pre></div></li><li class='xr-var-item'><div class='xr-var-name'><span class='xr-has-index'>yu</span></div><div class='xr-var-dims'>(yu)</div><div class='xr-var-dtype'>float64</div><div class='xr-var-preview xr-preview'>-76.0 -72.0 -68.0 ... 76.0 80.0</div><input id='attrs-8d5ce74d-fd0e-45f4-a3f6-5c2181d4fd70' class='xr-var-attrs-in' type='checkbox' ><label for='attrs-8d5ce74d-fd0e-45f4-a3f6-5c2181d4fd70' title='Show/Hide attributes'><svg class='icon xr-icon-file-text2'><use xlink:href='#icon-file-text2'></use></svg></label><input id='data-9063a36b-16a0-43f9-8468-f7ff118e23d4' class='xr-var-data-in' type='checkbox'><label for='data-9063a36b-16a0-43f9-8468-f7ff118e23d4' title='Show/Hide data repr'><svg class='icon xr-icon-database'><use xlink:href='#icon-database'></use></svg></label><div class='xr-var-attrs'><dl class='xr-attrs'><dt><span>long_name :</span></dt><dd>Meridional coordinate (U)</dd><dt><span>units :</span></dt><dd>degrees_north</dd></dl></div><div class='xr-var-data'><pre>array([-76., -72., -68., -64., -60., -56., -52., -48., -44., -40., -36., -32.,\n",
              "       -28., -24., -20., -16., -12.,  -8.,  -4.,   0.,   4.,   8.,  12.,  16.,\n",
              "        20.,  24.,  28.,  32.,  36.,  40.,  44.,  48.,  52.,  56.,  60.,  64.,\n",
              "        68.,  72.,  76.,  80.])</pre></div></li><li class='xr-var-item'><div class='xr-var-name'><span class='xr-has-index'>zt</span></div><div class='xr-var-dims'>(zt)</div><div class='xr-var-dtype'>float64</div><div class='xr-var-preview xr-preview'>-4.855e+03 -4.165e+03 ... -35.0</div><input id='attrs-38228f34-6380-4551-b641-1beb1d247ee0' class='xr-var-attrs-in' type='checkbox' ><label for='attrs-38228f34-6380-4551-b641-1beb1d247ee0' title='Show/Hide attributes'><svg class='icon xr-icon-file-text2'><use xlink:href='#icon-file-text2'></use></svg></label><input id='data-c769c10c-8eaa-4d8d-bc27-f0a1fc2efa84' class='xr-var-data-in' type='checkbox'><label for='data-c769c10c-8eaa-4d8d-bc27-f0a1fc2efa84' title='Show/Hide data repr'><svg class='icon xr-icon-database'><use xlink:href='#icon-database'></use></svg></label><div class='xr-var-attrs'><dl class='xr-attrs'><dt><span>long_name :</span></dt><dd>Vertical coordinate (T)</dd><dt><span>units :</span></dt><dd>m</dd><dt><span>positive :</span></dt><dd>up</dd></dl></div><div class='xr-var-data'><pre>array([-4855., -4165., -3575., -2985., -2495., -2005., -1615., -1225.,  -935.,\n",
              "        -645.,  -455.,  -265.,  -175.,   -65.,   -35.])</pre></div></li><li class='xr-var-item'><div class='xr-var-name'><span class='xr-has-index'>zw</span></div><div class='xr-var-dims'>(zw)</div><div class='xr-var-dtype'>float64</div><div class='xr-var-preview xr-preview'>-4.51e+03 -3.87e+03 ... -50.0 0.0</div><input id='attrs-9338b18e-6d9e-4379-b0ab-a89769d27e2c' class='xr-var-attrs-in' type='checkbox' ><label for='attrs-9338b18e-6d9e-4379-b0ab-a89769d27e2c' title='Show/Hide attributes'><svg class='icon xr-icon-file-text2'><use xlink:href='#icon-file-text2'></use></svg></label><input id='data-a01c80e3-bf57-4749-b96f-f8b056ffb79e' class='xr-var-data-in' type='checkbox'><label for='data-a01c80e3-bf57-4749-b96f-f8b056ffb79e' title='Show/Hide data repr'><svg class='icon xr-icon-database'><use xlink:href='#icon-database'></use></svg></label><div class='xr-var-attrs'><dl class='xr-attrs'><dt><span>long_name :</span></dt><dd>Vertical coordinate (W)</dd><dt><span>units :</span></dt><dd>m</dd><dt><span>positive :</span></dt><dd>up</dd></dl></div><div class='xr-var-data'><pre>array([-4510., -3870., -3280., -2740., -2250., -1810., -1420., -1080.,  -790.,\n",
              "        -550.,  -360.,  -220.,  -120.,   -50.,     0.])</pre></div></li></ul></div></li><li class='xr-section-item'><input id='section-0519f81e-a04b-4bac-84e6-b3484bdff341' class='xr-section-summary-in' type='checkbox'  checked><label for='section-0519f81e-a04b-4bac-84e6-b3484bdff341' class='xr-section-summary' >Data variables: <span>(6)</span></label><div class='xr-section-inline-details'></div><div class='xr-section-details'><ul class='xr-var-list'><li class='xr-var-item'><div class='xr-var-name'><span>bolus_depth</span></div><div class='xr-var-dims'>(Time, zw, yu)</div><div class='xr-var-dtype'>float64</div><div class='xr-var-preview xr-preview'>...</div><input id='attrs-4c399520-1c25-464e-9bd5-e10d8e5a6564' class='xr-var-attrs-in' type='checkbox' ><label for='attrs-4c399520-1c25-464e-9bd5-e10d8e5a6564' title='Show/Hide attributes'><svg class='icon xr-icon-file-text2'><use xlink:href='#icon-file-text2'></use></svg></label><input id='data-0d5b457a-a085-47f4-8df1-5293c6885ffe' class='xr-var-data-in' type='checkbox'><label for='data-0d5b457a-a085-47f4-8df1-5293c6885ffe' title='Show/Hide data repr'><svg class='icon xr-icon-database'><use xlink:href='#icon-database'></use></svg></label><div class='xr-var-attrs'><dl class='xr-attrs'><dt><span>long_name :</span></dt><dd>Meridional transport</dd><dt><span>units :</span></dt><dd>m^3/s</dd></dl></div><div class='xr-var-data'><pre>[60000 values with dtype=float64]</pre></div></li><li class='xr-var-item'><div class='xr-var-name'><span>bolus_iso</span></div><div class='xr-var-dims'>(Time, zw, yu)</div><div class='xr-var-dtype'>float64</div><div class='xr-var-preview xr-preview'>...</div><input id='attrs-ec85fa9b-1f5d-4eb1-b431-c26bd980d53b' class='xr-var-attrs-in' type='checkbox' ><label for='attrs-ec85fa9b-1f5d-4eb1-b431-c26bd980d53b' title='Show/Hide attributes'><svg class='icon xr-icon-file-text2'><use xlink:href='#icon-file-text2'></use></svg></label><input id='data-d296ccb9-fa9c-4677-83a3-bf581e9866aa' class='xr-var-data-in' type='checkbox'><label for='data-d296ccb9-fa9c-4677-83a3-bf581e9866aa' title='Show/Hide data repr'><svg class='icon xr-icon-database'><use xlink:href='#icon-database'></use></svg></label><div class='xr-var-attrs'><dl class='xr-attrs'><dt><span>long_name :</span></dt><dd>Meridional transport</dd><dt><span>units :</span></dt><dd>m^3/s</dd></dl></div><div class='xr-var-data'><pre>[60000 values with dtype=float64]</pre></div></li><li class='xr-var-item'><div class='xr-var-name'><span>trans</span></div><div class='xr-var-dims'>(Time, sigma, yu)</div><div class='xr-var-dtype'>float64</div><div class='xr-var-preview xr-preview'>...</div><input id='attrs-393c3535-7b6a-403d-8c99-21283a209696' class='xr-var-attrs-in' type='checkbox' ><label for='attrs-393c3535-7b6a-403d-8c99-21283a209696' title='Show/Hide attributes'><svg class='icon xr-icon-file-text2'><use xlink:href='#icon-file-text2'></use></svg></label><input id='data-920ecc4e-ca9f-431c-9b42-254cb696862f' class='xr-var-data-in' type='checkbox'><label for='data-920ecc4e-ca9f-431c-9b42-254cb696862f' title='Show/Hide data repr'><svg class='icon xr-icon-database'><use xlink:href='#icon-database'></use></svg></label><div class='xr-var-attrs'><dl class='xr-attrs'><dt><span>long_name :</span></dt><dd>Meridional transport</dd><dt><span>units :</span></dt><dd>m^3/s</dd></dl></div><div class='xr-var-data'><pre>[240000 values with dtype=float64]</pre></div></li><li class='xr-var-item'><div class='xr-var-name'><span>vsf_depth</span></div><div class='xr-var-dims'>(Time, zw, yu)</div><div class='xr-var-dtype'>float64</div><div class='xr-var-preview xr-preview'>...</div><input id='attrs-a85dc204-8273-441a-921f-080cdfec07c4' class='xr-var-attrs-in' type='checkbox' ><label for='attrs-a85dc204-8273-441a-921f-080cdfec07c4' title='Show/Hide attributes'><svg class='icon xr-icon-file-text2'><use xlink:href='#icon-file-text2'></use></svg></label><input id='data-3a619299-95f1-4347-895f-12f14aaa43b3' class='xr-var-data-in' type='checkbox'><label for='data-3a619299-95f1-4347-895f-12f14aaa43b3' title='Show/Hide data repr'><svg class='icon xr-icon-database'><use xlink:href='#icon-database'></use></svg></label><div class='xr-var-attrs'><dl class='xr-attrs'><dt><span>long_name :</span></dt><dd>Meridional transport</dd><dt><span>units :</span></dt><dd>m^3/s</dd></dl></div><div class='xr-var-data'><pre>[60000 values with dtype=float64]</pre></div></li><li class='xr-var-item'><div class='xr-var-name'><span>vsf_iso</span></div><div class='xr-var-dims'>(Time, zw, yu)</div><div class='xr-var-dtype'>float64</div><div class='xr-var-preview xr-preview'>...</div><input id='attrs-5d2ea61a-e4dc-4810-9f16-5e0c84599d79' class='xr-var-attrs-in' type='checkbox' ><label for='attrs-5d2ea61a-e4dc-4810-9f16-5e0c84599d79' title='Show/Hide attributes'><svg class='icon xr-icon-file-text2'><use xlink:href='#icon-file-text2'></use></svg></label><input id='data-ddeff4aa-ad6b-4877-8207-0221630b7980' class='xr-var-data-in' type='checkbox'><label for='data-ddeff4aa-ad6b-4877-8207-0221630b7980' title='Show/Hide data repr'><svg class='icon xr-icon-database'><use xlink:href='#icon-database'></use></svg></label><div class='xr-var-attrs'><dl class='xr-attrs'><dt><span>long_name :</span></dt><dd>Meridional transport</dd><dt><span>units :</span></dt><dd>m^3/s</dd></dl></div><div class='xr-var-data'><pre>[60000 values with dtype=float64]</pre></div></li><li class='xr-var-item'><div class='xr-var-name'><span>zarea</span></div><div class='xr-var-dims'>(Time, zt, yu)</div><div class='xr-var-dtype'>float64</div><div class='xr-var-preview xr-preview'>...</div><input id='attrs-574417c4-1c68-46c3-883a-deb7eb20d2ea' class='xr-var-attrs-in' type='checkbox' ><label for='attrs-574417c4-1c68-46c3-883a-deb7eb20d2ea' title='Show/Hide attributes'><svg class='icon xr-icon-file-text2'><use xlink:href='#icon-file-text2'></use></svg></label><input id='data-d611a937-b517-454c-a612-b9451a7a6aee' class='xr-var-data-in' type='checkbox'><label for='data-d611a937-b517-454c-a612-b9451a7a6aee' title='Show/Hide data repr'><svg class='icon xr-icon-database'><use xlink:href='#icon-database'></use></svg></label><div class='xr-var-attrs'><dl class='xr-attrs'><dt><span>long_name :</span></dt><dd>zarea</dd><dt><span>units :</span></dt><dd></dd></dl></div><div class='xr-var-data'><pre>[60000 values with dtype=float64]</pre></div></li></ul></div></li><li class='xr-section-item'><input id='section-182c6e7f-f98f-40fa-b7f3-bb847b533c19' class='xr-section-summary-in' type='checkbox'  ><label for='section-182c6e7f-f98f-40fa-b7f3-bb847b533c19' class='xr-section-summary' >Indexes: <span>(12)</span></label><div class='xr-section-inline-details'></div><div class='xr-section-details'><ul class='xr-var-list'><li class='xr-var-item'><div class='xr-index-name'><div>Time</div></div><div class='xr-index-preview'>PandasIndex</div><div></div><input id='index-587888a4-5bc6-44f9-8b6b-cf47f37209ad' class='xr-index-data-in' type='checkbox'/><label for='index-587888a4-5bc6-44f9-8b6b-cf47f37209ad' title='Show/Hide index repr'><svg class='icon xr-icon-database'><use xlink:href='#icon-database'></use></svg></label><div class='xr-index-data'><pre>PandasIndex(TimedeltaIndex([  &#x27;360 days&#x27;,   &#x27;720 days&#x27;,  &#x27;1080 days&#x27;,  &#x27;1440 days&#x27;,\n",
              "                 &#x27;1800 days&#x27;,  &#x27;2160 days&#x27;,  &#x27;2520 days&#x27;,  &#x27;2880 days&#x27;,\n",
              "                 &#x27;3240 days&#x27;,  &#x27;3600 days&#x27;,  &#x27;3960 days&#x27;,  &#x27;4320 days&#x27;,\n",
              "                 &#x27;4680 days&#x27;,  &#x27;5040 days&#x27;,  &#x27;5400 days&#x27;,  &#x27;5760 days&#x27;,\n",
              "                 &#x27;6120 days&#x27;,  &#x27;6480 days&#x27;,  &#x27;6840 days&#x27;,  &#x27;7200 days&#x27;,\n",
              "                 &#x27;7560 days&#x27;,  &#x27;7920 days&#x27;,  &#x27;8280 days&#x27;,  &#x27;8640 days&#x27;,\n",
              "                 &#x27;9000 days&#x27;,  &#x27;9360 days&#x27;,  &#x27;9720 days&#x27;, &#x27;10080 days&#x27;,\n",
              "                &#x27;10440 days&#x27;, &#x27;10800 days&#x27;, &#x27;11160 days&#x27;, &#x27;11520 days&#x27;,\n",
              "                &#x27;11880 days&#x27;, &#x27;12240 days&#x27;, &#x27;12600 days&#x27;, &#x27;12960 days&#x27;,\n",
              "                &#x27;13320 days&#x27;, &#x27;13680 days&#x27;, &#x27;14040 days&#x27;, &#x27;14400 days&#x27;,\n",
              "                &#x27;14760 days&#x27;, &#x27;15120 days&#x27;, &#x27;15480 days&#x27;, &#x27;15840 days&#x27;,\n",
              "                &#x27;16200 days&#x27;, &#x27;16560 days&#x27;, &#x27;16920 days&#x27;, &#x27;17280 days&#x27;,\n",
              "                &#x27;17640 days&#x27;, &#x27;18000 days&#x27;, &#x27;18360 days&#x27;, &#x27;18720 days&#x27;,\n",
              "                &#x27;19080 days&#x27;, &#x27;19440 days&#x27;, &#x27;19800 days&#x27;, &#x27;20160 days&#x27;,\n",
              "                &#x27;20520 days&#x27;, &#x27;20880 days&#x27;, &#x27;21240 days&#x27;, &#x27;21600 days&#x27;,\n",
              "                &#x27;21960 days&#x27;, &#x27;22320 days&#x27;, &#x27;22680 days&#x27;, &#x27;23040 days&#x27;,\n",
              "                &#x27;23400 days&#x27;, &#x27;23760 days&#x27;, &#x27;24120 days&#x27;, &#x27;24480 days&#x27;,\n",
              "                &#x27;24840 days&#x27;, &#x27;25200 days&#x27;, &#x27;25560 days&#x27;, &#x27;25920 days&#x27;,\n",
              "                &#x27;26280 days&#x27;, &#x27;26640 days&#x27;, &#x27;27000 days&#x27;, &#x27;27360 days&#x27;,\n",
              "                &#x27;27720 days&#x27;, &#x27;28080 days&#x27;, &#x27;28440 days&#x27;, &#x27;28800 days&#x27;,\n",
              "                &#x27;29160 days&#x27;, &#x27;29520 days&#x27;, &#x27;29880 days&#x27;, &#x27;30240 days&#x27;,\n",
              "                &#x27;30600 days&#x27;, &#x27;30960 days&#x27;, &#x27;31320 days&#x27;, &#x27;31680 days&#x27;,\n",
              "                &#x27;32040 days&#x27;, &#x27;32400 days&#x27;, &#x27;32760 days&#x27;, &#x27;33120 days&#x27;,\n",
              "                &#x27;33480 days&#x27;, &#x27;33840 days&#x27;, &#x27;34200 days&#x27;, &#x27;34560 days&#x27;,\n",
              "                &#x27;34920 days&#x27;, &#x27;35280 days&#x27;, &#x27;35640 days&#x27;, &#x27;36000 days&#x27;],\n",
              "               dtype=&#x27;timedelta64[ns]&#x27;, name=&#x27;Time&#x27;, freq=None))</pre></div></li><li class='xr-var-item'><div class='xr-index-name'><div>isle</div></div><div class='xr-index-preview'>PandasIndex</div><div></div><input id='index-47f3a338-38cd-49fc-ba3a-651d217d486b' class='xr-index-data-in' type='checkbox'/><label for='index-47f3a338-38cd-49fc-ba3a-651d217d486b' title='Show/Hide index repr'><svg class='icon xr-icon-database'><use xlink:href='#icon-database'></use></svg></label><div class='xr-index-data'><pre>PandasIndex(Float64Index([0.0, 1.0, 2.0, 3.0, 4.0, 5.0], dtype=&#x27;float64&#x27;, name=&#x27;isle&#x27;))</pre></div></li><li class='xr-var-item'><div class='xr-index-name'><div>nmonths</div></div><div class='xr-index-preview'>PandasIndex</div><div></div><input id='index-edc3ce14-8129-4a16-b7b1-fee4b1ad3153' class='xr-index-data-in' type='checkbox'/><label for='index-edc3ce14-8129-4a16-b7b1-fee4b1ad3153' title='Show/Hide index repr'><svg class='icon xr-icon-database'><use xlink:href='#icon-database'></use></svg></label><div class='xr-index-data'><pre>PandasIndex(Float64Index([0.0, 1.0, 2.0, 3.0, 4.0, 5.0, 6.0, 7.0, 8.0, 9.0, 10.0, 11.0], dtype=&#x27;float64&#x27;, name=&#x27;nmonths&#x27;))</pre></div></li><li class='xr-var-item'><div class='xr-index-name'><div>sigma</div></div><div class='xr-index-preview'>PandasIndex</div><div></div><input id='index-c39df853-28b1-4b1c-adc6-bcd3f131ad22' class='xr-index-data-in' type='checkbox'/><label for='index-c39df853-28b1-4b1c-adc6-bcd3f131ad22' title='Show/Hide index repr'><svg class='icon xr-icon-database'><use xlink:href='#icon-database'></use></svg></label><div class='xr-index-data'><pre>PandasIndex(Float64Index([  5.80385352436565,  5.934171308872029,  6.064489093378408,\n",
              "               6.194806877884788,  6.325124662391167,  6.455442446897546,\n",
              "               6.585760231403926, 6.7160780159103055,  6.846395800416685,\n",
              "               6.976713584923064,  7.107031369429444,  7.237349153935822,\n",
              "               7.367666938442202,  7.497984722948582,  7.628302507454961,\n",
              "                7.75862029196134,   7.88893807646772,  8.019255860974098,\n",
              "               8.149573645480478,  8.279891429986858,  8.410209214493237,\n",
              "               8.540526998999617,  8.670844783505995,  8.801162568012376,\n",
              "               8.931480352518754,  9.061798137025134,  9.192115921531514,\n",
              "               9.322433706037893,  9.452751490544273,   9.58306927505065,\n",
              "                9.71338705955703,   9.84370484406341,   9.97402262856979,\n",
              "               10.10434041307617, 10.234658197582547, 10.364975982088929,\n",
              "              10.495293766595307, 10.625611551101686, 10.755929335608066,\n",
              "              10.886247120114446, 11.016564904620825, 11.146882689127203,\n",
              "              11.277200473633584, 11.407518258139962, 11.537836042646342,\n",
              "              11.668153827152722, 11.798471611659101, 11.928789396165481,\n",
              "              12.059107180671859,  12.18942496517824, 12.319742749684618,\n",
              "              12.450060534190998, 12.580378318697377, 12.710696103203755,\n",
              "              12.841013887710137, 12.971331672216515, 13.101649456722894,\n",
              "              13.231967241229274, 13.362285025735654, 13.492602810242033],\n",
              "             dtype=&#x27;float64&#x27;, name=&#x27;sigma&#x27;))</pre></div></li><li class='xr-var-item'><div class='xr-index-name'><div>tensor1</div></div><div class='xr-index-preview'>PandasIndex</div><div></div><input id='index-58290f3c-b29d-4f83-9815-c0b009617311' class='xr-index-data-in' type='checkbox'/><label for='index-58290f3c-b29d-4f83-9815-c0b009617311' title='Show/Hide index repr'><svg class='icon xr-icon-database'><use xlink:href='#icon-database'></use></svg></label><div class='xr-index-data'><pre>PandasIndex(Float64Index([0.0, 1.0], dtype=&#x27;float64&#x27;, name=&#x27;tensor1&#x27;))</pre></div></li><li class='xr-var-item'><div class='xr-index-name'><div>tensor2</div></div><div class='xr-index-preview'>PandasIndex</div><div></div><input id='index-076fb413-b16a-4d3e-a146-b134668538ca' class='xr-index-data-in' type='checkbox'/><label for='index-076fb413-b16a-4d3e-a146-b134668538ca' title='Show/Hide index repr'><svg class='icon xr-icon-database'><use xlink:href='#icon-database'></use></svg></label><div class='xr-index-data'><pre>PandasIndex(Float64Index([0.0, 1.0], dtype=&#x27;float64&#x27;, name=&#x27;tensor2&#x27;))</pre></div></li><li class='xr-var-item'><div class='xr-index-name'><div>xt</div></div><div class='xr-index-preview'>PandasIndex</div><div></div><input id='index-c8575df9-62f4-4eec-a825-213cafcaeee7' class='xr-index-data-in' type='checkbox'/><label for='index-c8575df9-62f4-4eec-a825-213cafcaeee7' title='Show/Hide index repr'><svg class='icon xr-icon-database'><use xlink:href='#icon-database'></use></svg></label><div class='xr-index-data'><pre>PandasIndex(Float64Index([  2.0,   6.0,  10.0,  14.0,  18.0,  22.0,  26.0,  30.0,  34.0,\n",
              "               38.0,  42.0,  46.0,  50.0,  54.0,  58.0,  62.0,  66.0,  70.0,\n",
              "               74.0,  78.0,  82.0,  86.0,  90.0,  94.0,  98.0, 102.0, 106.0,\n",
              "              110.0, 114.0, 118.0, 122.0, 126.0, 130.0, 134.0, 138.0, 142.0,\n",
              "              146.0, 150.0, 154.0, 158.0, 162.0, 166.0, 170.0, 174.0, 178.0,\n",
              "              182.0, 186.0, 190.0, 194.0, 198.0, 202.0, 206.0, 210.0, 214.0,\n",
              "              218.0, 222.0, 226.0, 230.0, 234.0, 238.0, 242.0, 246.0, 250.0,\n",
              "              254.0, 258.0, 262.0, 266.0, 270.0, 274.0, 278.0, 282.0, 286.0,\n",
              "              290.0, 294.0, 298.0, 302.0, 306.0, 310.0, 314.0, 318.0, 322.0,\n",
              "              326.0, 330.0, 334.0, 338.0, 342.0, 346.0, 350.0, 354.0, 358.0],\n",
              "             dtype=&#x27;float64&#x27;, name=&#x27;xt&#x27;))</pre></div></li><li class='xr-var-item'><div class='xr-index-name'><div>xu</div></div><div class='xr-index-preview'>PandasIndex</div><div></div><input id='index-d3ecb543-acc9-4e58-aaac-de249bdc7c07' class='xr-index-data-in' type='checkbox'/><label for='index-d3ecb543-acc9-4e58-aaac-de249bdc7c07' title='Show/Hide index repr'><svg class='icon xr-icon-database'><use xlink:href='#icon-database'></use></svg></label><div class='xr-index-data'><pre>PandasIndex(Float64Index([  4.0,   8.0,  12.0,  16.0,  20.0,  24.0,  28.0,  32.0,  36.0,\n",
              "               40.0,  44.0,  48.0,  52.0,  56.0,  60.0,  64.0,  68.0,  72.0,\n",
              "               76.0,  80.0,  84.0,  88.0,  92.0,  96.0, 100.0, 104.0, 108.0,\n",
              "              112.0, 116.0, 120.0, 124.0, 128.0, 132.0, 136.0, 140.0, 144.0,\n",
              "              148.0, 152.0, 156.0, 160.0, 164.0, 168.0, 172.0, 176.0, 180.0,\n",
              "              184.0, 188.0, 192.0, 196.0, 200.0, 204.0, 208.0, 212.0, 216.0,\n",
              "              220.0, 224.0, 228.0, 232.0, 236.0, 240.0, 244.0, 248.0, 252.0,\n",
              "              256.0, 260.0, 264.0, 268.0, 272.0, 276.0, 280.0, 284.0, 288.0,\n",
              "              292.0, 296.0, 300.0, 304.0, 308.0, 312.0, 316.0, 320.0, 324.0,\n",
              "              328.0, 332.0, 336.0, 340.0, 344.0, 348.0, 352.0, 356.0, 360.0],\n",
              "             dtype=&#x27;float64&#x27;, name=&#x27;xu&#x27;))</pre></div></li><li class='xr-var-item'><div class='xr-index-name'><div>yt</div></div><div class='xr-index-preview'>PandasIndex</div><div></div><input id='index-962c1ee6-f6e8-4b94-884a-af7fdc199f0f' class='xr-index-data-in' type='checkbox'/><label for='index-962c1ee6-f6e8-4b94-884a-af7fdc199f0f' title='Show/Hide index repr'><svg class='icon xr-icon-database'><use xlink:href='#icon-database'></use></svg></label><div class='xr-index-data'><pre>PandasIndex(Float64Index([-78.0, -74.0, -70.0, -66.0, -62.0, -58.0, -54.0, -50.0, -46.0,\n",
              "              -42.0, -38.0, -34.0, -30.0, -26.0, -22.0, -18.0, -14.0, -10.0,\n",
              "               -6.0,  -2.0,   2.0,   6.0,  10.0,  14.0,  18.0,  22.0,  26.0,\n",
              "               30.0,  34.0,  38.0,  42.0,  46.0,  50.0,  54.0,  58.0,  62.0,\n",
              "               66.0,  70.0,  74.0,  78.0],\n",
              "             dtype=&#x27;float64&#x27;, name=&#x27;yt&#x27;))</pre></div></li><li class='xr-var-item'><div class='xr-index-name'><div>yu</div></div><div class='xr-index-preview'>PandasIndex</div><div></div><input id='index-aaac27a7-e154-4c0a-b430-bc6f34b5f3a9' class='xr-index-data-in' type='checkbox'/><label for='index-aaac27a7-e154-4c0a-b430-bc6f34b5f3a9' title='Show/Hide index repr'><svg class='icon xr-icon-database'><use xlink:href='#icon-database'></use></svg></label><div class='xr-index-data'><pre>PandasIndex(Float64Index([-76.0, -72.0, -68.0, -64.0, -60.0, -56.0, -52.0, -48.0, -44.0,\n",
              "              -40.0, -36.0, -32.0, -28.0, -24.0, -20.0, -16.0, -12.0,  -8.0,\n",
              "               -4.0,   0.0,   4.0,   8.0,  12.0,  16.0,  20.0,  24.0,  28.0,\n",
              "               32.0,  36.0,  40.0,  44.0,  48.0,  52.0,  56.0,  60.0,  64.0,\n",
              "               68.0,  72.0,  76.0,  80.0],\n",
              "             dtype=&#x27;float64&#x27;, name=&#x27;yu&#x27;))</pre></div></li><li class='xr-var-item'><div class='xr-index-name'><div>zt</div></div><div class='xr-index-preview'>PandasIndex</div><div></div><input id='index-1a53f68b-b8fd-4a70-9f6c-c607ecc5fea5' class='xr-index-data-in' type='checkbox'/><label for='index-1a53f68b-b8fd-4a70-9f6c-c607ecc5fea5' title='Show/Hide index repr'><svg class='icon xr-icon-database'><use xlink:href='#icon-database'></use></svg></label><div class='xr-index-data'><pre>PandasIndex(Float64Index([-4855.0, -4165.0, -3575.0, -2985.0, -2495.0, -2005.0, -1615.0,\n",
              "              -1225.0,  -935.0,  -645.0,  -455.0,  -265.0,  -175.0,   -65.0,\n",
              "                -35.0],\n",
              "             dtype=&#x27;float64&#x27;, name=&#x27;zt&#x27;))</pre></div></li><li class='xr-var-item'><div class='xr-index-name'><div>zw</div></div><div class='xr-index-preview'>PandasIndex</div><div></div><input id='index-faef1090-cdb2-43b7-81b9-66e70ddcc579' class='xr-index-data-in' type='checkbox'/><label for='index-faef1090-cdb2-43b7-81b9-66e70ddcc579' title='Show/Hide index repr'><svg class='icon xr-icon-database'><use xlink:href='#icon-database'></use></svg></label><div class='xr-index-data'><pre>PandasIndex(Float64Index([-4510.0, -3870.0, -3280.0, -2740.0, -2250.0, -1810.0, -1420.0,\n",
              "              -1080.0,  -790.0,  -550.0,  -360.0,  -220.0,  -120.0,   -50.0,\n",
              "                  0.0],\n",
              "             dtype=&#x27;float64&#x27;, name=&#x27;zw&#x27;))</pre></div></li></ul></div></li><li class='xr-section-item'><input id='section-8b1b0e4e-e55f-4e34-a736-f2d4a4d9ee12' class='xr-section-summary-in' type='checkbox'  checked><label for='section-8b1b0e4e-e55f-4e34-a736-f2d4a4d9ee12' class='xr-section-summary' >Attributes: <span>(3)</span></label><div class='xr-section-inline-details'></div><div class='xr-section-details'><dl class='xr-attrs'><dt><span>date_created :</span></dt><dd>2021-10-26T12:02:33.542479</dd><dt><span>veros_version :</span></dt><dd>1.4.2</dd><dt><span>setup_identifier :</span></dt><dd>4deg</dd></dl></div></li></ul></div></div>"
            ]
          },
          "metadata": {},
          "execution_count": 58
        }
      ]
    },
    {
      "cell_type": "code",
      "source": [
        "ds_ovr[\"vsf_depth\"] = ds_ovr.vsf_depth / 1e6"
      ],
      "metadata": {
        "id": "984yizJCQzvV"
      },
      "execution_count": null,
      "outputs": []
    },
    {
      "cell_type": "code",
      "source": [
        "ds_ovr.vsf_depth.attrs[\"long_name\"] = \"MOC\""
      ],
      "metadata": {
        "id": "ve6U3iA5Q2ks"
      },
      "execution_count": null,
      "outputs": []
    },
    {
      "cell_type": "code",
      "source": [
        "ds_ovr.vsf_depth.attrs[\"units\"] = \"Sv\""
      ],
      "metadata": {
        "id": "IGsIHZX1Q5GM"
      },
      "execution_count": null,
      "outputs": []
    },
    {
      "cell_type": "code",
      "source": [
        "ds_ovr.vsf_depth.isel(Time=-1).plot.contourf(levels=50, cmap=\"cmo.balance\")"
      ],
      "metadata": {
        "colab": {
          "base_uri": "https://localhost:8080/",
          "height": 325
        },
        "id": "bB4l47_JQ8A8",
        "outputId": "4aa83ff4-93c6-4f6c-a787-1a5e81b7a795"
      },
      "execution_count": null,
      "outputs": [
        {
          "output_type": "execute_result",
          "data": {
            "text/plain": [
              "<matplotlib.contour.QuadContourSet at 0x7fa82fa1b8e0>"
            ]
          },
          "metadata": {},
          "execution_count": 62
        },
        {
          "output_type": "display_data",
          "data": {
            "text/plain": [
              "<Figure size 432x288 with 2 Axes>"
            ],
            "image/png": "[encoded data removed]"
          },
          "metadata": {
            "needs_background": "light"
          }
        }
      ]
    },
    {
      "cell_type": "code",
      "source": [
        "ds_ovr[\"Time\"].isel(Time=slice(10,))"
      ],
      "metadata": {
        "colab": {
          "base_uri": "https://localhost:8080/",
          "height": 261
        },
        "id": "5F_gd8xERBCk",
        "outputId": "74cb7352-6555-40c3-ae47-fc842c99117c"
      },
      "execution_count": null,
      "outputs": [
        {
          "output_type": "execute_result",
          "data": {
            "text/plain": [
              "<xarray.DataArray 'Time' (Time: 10)>\n",
              "array([ 31104000000000000,  62208000000000000,  93312000000000000,\n",
              "       124416000000000000, 155520000000000000, 186624000000000000,\n",
              "       217728000000000000, 248832000000000000, 279936000000000000,\n",
              "       311040000000000000], dtype='timedelta64[ns]')\n",
              "Coordinates:\n",
              "  * Time     (Time) timedelta64[ns] 360 days 720 days ... 3240 days 3600 days\n",
              "Attributes:\n",
              "    long_name:    Time\n",
              "    time_origin:  01-JAN-1900 00:00:00"
            ],
            "text/html": [
              "<div><svg style=\"position: absolute; width: 0; height: 0; overflow: hidden\">\n",
              "<defs>\n",
              "<symbol id=\"icon-database\" viewBox=\"0 0 32 32\">\n",
              "<path d=\"M16 0c-8.837 0-16 2.239-16 5v4c0 2.761 7.163 5 16 5s16-2.239 16-5v-4c0-2.761-7.163-5-16-5z\"></path>\n",
              "<path d=\"M16 17c-8.837 0-16-2.239-16-5v6c0 2.761 7.163 5 16 5s16-2.239 16-5v-6c0 2.761-7.163 5-16 5z\"></path>\n",
              "<path d=\"M16 26c-8.837 0-16-2.239-16-5v6c0 2.761 7.163 5 16 5s16-2.239 16-5v-6c0 2.761-7.163 5-16 5z\"></path>\n",
              "</symbol>\n",
              "<symbol id=\"icon-file-text2\" viewBox=\"0 0 32 32\">\n",
              "<path d=\"M28.681 7.159c-0.694-0.947-1.662-2.053-2.724-3.116s-2.169-2.030-3.116-2.724c-1.612-1.182-2.393-1.319-2.841-1.319h-15.5c-1.378 0-2.5 1.121-2.5 2.5v27c0 1.378 1.122 2.5 2.5 2.5h23c1.378 0 2.5-1.122 2.5-2.5v-19.5c0-0.448-0.137-1.23-1.319-2.841zM24.543 5.457c0.959 0.959 1.712 1.825 2.268 2.543h-4.811v-4.811c0.718 0.556 1.584 1.309 2.543 2.268zM28 29.5c0 0.271-0.229 0.5-0.5 0.5h-23c-0.271 0-0.5-0.229-0.5-0.5v-27c0-0.271 0.229-0.5 0.5-0.5 0 0 15.499-0 15.5 0v7c0 0.552 0.448 1 1 1h7v19.5z\"></path>\n",
              "<path d=\"M23 26h-14c-0.552 0-1-0.448-1-1s0.448-1 1-1h14c0.552 0 1 0.448 1 1s-0.448 1-1 1z\"></path>\n",
              "<path d=\"M23 22h-14c-0.552 0-1-0.448-1-1s0.448-1 1-1h14c0.552 0 1 0.448 1 1s-0.448 1-1 1z\"></path>\n",
              "<path d=\"M23 18h-14c-0.552 0-1-0.448-1-1s0.448-1 1-1h14c0.552 0 1 0.448 1 1s-0.448 1-1 1z\"></path>\n",
              "</symbol>\n",
              "</defs>\n",
              "</svg>\n",
              "<style>/* CSS stylesheet for displaying xarray objects in jupyterlab.\n",
              " *\n",
              " */\n",
              "\n",
              ":root {\n",
              "  --xr-font-color0: var(--jp-content-font-color0, rgba(0, 0, 0, 1));\n",
              "  --xr-font-color2: var(--jp-content-font-color2, rgba(0, 0, 0, 0.54));\n",
              "  --xr-font-color3: var(--jp-content-font-color3, rgba(0, 0, 0, 0.38));\n",
              "  --xr-border-color: var(--jp-border-color2, #e0e0e0);\n",
              "  --xr-disabled-color: var(--jp-layout-color3, #bdbdbd);\n",
              "  --xr-background-color: var(--jp-layout-color0, white);\n",
              "  --xr-background-color-row-even: var(--jp-layout-color1, white);\n",
              "  --xr-background-color-row-odd: var(--jp-layout-color2, #eeeeee);\n",
              "}\n",
              "\n",
              "html[theme=dark],\n",
              "body[data-theme=dark],\n",
              "body.vscode-dark {\n",
              "  --xr-font-color0: rgba(255, 255, 255, 1);\n",
              "  --xr-font-color2: rgba(255, 255, 255, 0.54);\n",
              "  --xr-font-color3: rgba(255, 255, 255, 0.38);\n",
              "  --xr-border-color: #1F1F1F;\n",
              "  --xr-disabled-color: #515151;\n",
              "  --xr-background-color: #111111;\n",
              "  --xr-background-color-row-even: #111111;\n",
              "  --xr-background-color-row-odd: #313131;\n",
              "}\n",
              "\n",
              ".xr-wrap {\n",
              "  display: block !important;\n",
              "  min-width: 300px;\n",
              "  max-width: 700px;\n",
              "}\n",
              "\n",
              ".xr-text-repr-fallback {\n",
              "  /* fallback to plain text repr when CSS is not injected (untrusted notebook) */\n",
              "  display: none;\n",
              "}\n",
              "\n",
              ".xr-header {\n",
              "  padding-top: 6px;\n",
              "  padding-bottom: 6px;\n",
              "  margin-bottom: 4px;\n",
              "  border-bottom: solid 1px var(--xr-border-color);\n",
              "}\n",
              "\n",
              ".xr-header > div,\n",
              ".xr-header > ul {\n",
              "  display: inline;\n",
              "  margin-top: 0;\n",
              "  margin-bottom: 0;\n",
              "}\n",
              "\n",
              ".xr-obj-type,\n",
              ".xr-array-name {\n",
              "  margin-left: 2px;\n",
              "  margin-right: 10px;\n",
              "}\n",
              "\n",
              ".xr-obj-type {\n",
              "  color: var(--xr-font-color2);\n",
              "}\n",
              "\n",
              ".xr-sections {\n",
              "  padding-left: 0 !important;\n",
              "  display: grid;\n",
              "  grid-template-columns: 150px auto auto 1fr 20px 20px;\n",
              "}\n",
              "\n",
              ".xr-section-item {\n",
              "  display: contents;\n",
              "}\n",
              "\n",
              ".xr-section-item input {\n",
              "  display: none;\n",
              "}\n",
              "\n",
              ".xr-section-item input + label {\n",
              "  color: var(--xr-disabled-color);\n",
              "}\n",
              "\n",
              ".xr-section-item input:enabled + label {\n",
              "  cursor: pointer;\n",
              "  color: var(--xr-font-color2);\n",
              "}\n",
              "\n",
              ".xr-section-item input:enabled + label:hover {\n",
              "  color: var(--xr-font-color0);\n",
              "}\n",
              "\n",
              ".xr-section-summary {\n",
              "  grid-column: 1;\n",
              "  color: var(--xr-font-color2);\n",
              "  font-weight: 500;\n",
              "}\n",
              "\n",
              ".xr-section-summary > span {\n",
              "  display: inline-block;\n",
              "  padding-left: 0.5em;\n",
              "}\n",
              "\n",
              ".xr-section-summary-in:disabled + label {\n",
              "  color: var(--xr-font-color2);\n",
              "}\n",
              "\n",
              ".xr-section-summary-in + label:before {\n",
              "  display: inline-block;\n",
              "  content: '►';\n",
              "  font-size: 11px;\n",
              "  width: 15px;\n",
              "  text-align: center;\n",
              "}\n",
              "\n",
              ".xr-section-summary-in:disabled + label:before {\n",
              "  color: var(--xr-disabled-color);\n",
              "}\n",
              "\n",
              ".xr-section-summary-in:checked + label:before {\n",
              "  content: '▼';\n",
              "}\n",
              "\n",
              ".xr-section-summary-in:checked + label > span {\n",
              "  display: none;\n",
              "}\n",
              "\n",
              ".xr-section-summary,\n",
              ".xr-section-inline-details {\n",
              "  padding-top: 4px;\n",
              "  padding-bottom: 4px;\n",
              "}\n",
              "\n",
              ".xr-section-inline-details {\n",
              "  grid-column: 2 / -1;\n",
              "}\n",
              "\n",
              ".xr-section-details {\n",
              "  display: none;\n",
              "  grid-column: 1 / -1;\n",
              "  margin-bottom: 5px;\n",
              "}\n",
              "\n",
              ".xr-section-summary-in:checked ~ .xr-section-details {\n",
              "  display: contents;\n",
              "}\n",
              "\n",
              ".xr-array-wrap {\n",
              "  grid-column: 1 / -1;\n",
              "  display: grid;\n",
              "  grid-template-columns: 20px auto;\n",
              "}\n",
              "\n",
              ".xr-array-wrap > label {\n",
              "  grid-column: 1;\n",
              "  vertical-align: top;\n",
              "}\n",
              "\n",
              ".xr-preview {\n",
              "  color: var(--xr-font-color3);\n",
              "}\n",
              "\n",
              ".xr-array-preview,\n",
              ".xr-array-data {\n",
              "  padding: 0 5px !important;\n",
              "  grid-column: 2;\n",
              "}\n",
              "\n",
              ".xr-array-data,\n",
              ".xr-array-in:checked ~ .xr-array-preview {\n",
              "  display: none;\n",
              "}\n",
              "\n",
              ".xr-array-in:checked ~ .xr-array-data,\n",
              ".xr-array-preview {\n",
              "  display: inline-block;\n",
              "}\n",
              "\n",
              ".xr-dim-list {\n",
              "  display: inline-block !important;\n",
              "  list-style: none;\n",
              "  padding: 0 !important;\n",
              "  margin: 0;\n",
              "}\n",
              "\n",
              ".xr-dim-list li {\n",
              "  display: inline-block;\n",
              "  padding: 0;\n",
              "  margin: 0;\n",
              "}\n",
              "\n",
              ".xr-dim-list:before {\n",
              "  content: '(';\n",
              "}\n",
              "\n",
              ".xr-dim-list:after {\n",
              "  content: ')';\n",
              "}\n",
              "\n",
              ".xr-dim-list li:not(:last-child):after {\n",
              "  content: ',';\n",
              "  padding-right: 5px;\n",
              "}\n",
              "\n",
              ".xr-has-index {\n",
              "  font-weight: bold;\n",
              "}\n",
              "\n",
              ".xr-var-list,\n",
              ".xr-var-item {\n",
              "  display: contents;\n",
              "}\n",
              "\n",
              ".xr-var-item > div,\n",
              ".xr-var-item label,\n",
              ".xr-var-item > .xr-var-name span {\n",
              "  background-color: var(--xr-background-color-row-even);\n",
              "  margin-bottom: 0;\n",
              "}\n",
              "\n",
              ".xr-var-item > .xr-var-name:hover span {\n",
              "  padding-right: 5px;\n",
              "}\n",
              "\n",
              ".xr-var-list > li:nth-child(odd) > div,\n",
              ".xr-var-list > li:nth-child(odd) > label,\n",
              ".xr-var-list > li:nth-child(odd) > .xr-var-name span {\n",
              "  background-color: var(--xr-background-color-row-odd);\n",
              "}\n",
              "\n",
              ".xr-var-name {\n",
              "  grid-column: 1;\n",
              "}\n",
              "\n",
              ".xr-var-dims {\n",
              "  grid-column: 2;\n",
              "}\n",
              "\n",
              ".xr-var-dtype {\n",
              "  grid-column: 3;\n",
              "  text-align: right;\n",
              "  color: var(--xr-font-color2);\n",
              "}\n",
              "\n",
              ".xr-var-preview {\n",
              "  grid-column: 4;\n",
              "}\n",
              "\n",
              ".xr-index-preview {\n",
              "  grid-column: 2 / 5;\n",
              "  color: var(--xr-font-color2);\n",
              "}\n",
              "\n",
              ".xr-var-name,\n",
              ".xr-var-dims,\n",
              ".xr-var-dtype,\n",
              ".xr-preview,\n",
              ".xr-attrs dt {\n",
              "  white-space: nowrap;\n",
              "  overflow: hidden;\n",
              "  text-overflow: ellipsis;\n",
              "  padding-right: 10px;\n",
              "}\n",
              "\n",
              ".xr-var-name:hover,\n",
              ".xr-var-dims:hover,\n",
              ".xr-var-dtype:hover,\n",
              ".xr-attrs dt:hover {\n",
              "  overflow: visible;\n",
              "  width: auto;\n",
              "  z-index: 1;\n",
              "}\n",
              "\n",
              ".xr-var-attrs,\n",
              ".xr-var-data,\n",
              ".xr-index-data {\n",
              "  display: none;\n",
              "  background-color: var(--xr-background-color) !important;\n",
              "  padding-bottom: 5px !important;\n",
              "}\n",
              "\n",
              ".xr-var-attrs-in:checked ~ .xr-var-attrs,\n",
              ".xr-var-data-in:checked ~ .xr-var-data,\n",
              ".xr-index-data-in:checked ~ .xr-index-data {\n",
              "  display: block;\n",
              "}\n",
              "\n",
              ".xr-var-data > table {\n",
              "  float: right;\n",
              "}\n",
              "\n",
              ".xr-var-name span,\n",
              ".xr-var-data,\n",
              ".xr-index-name div,\n",
              ".xr-index-data,\n",
              ".xr-attrs {\n",
              "  padding-left: 25px !important;\n",
              "}\n",
              "\n",
              ".xr-attrs,\n",
              ".xr-var-attrs,\n",
              ".xr-var-data,\n",
              ".xr-index-data {\n",
              "  grid-column: 1 / -1;\n",
              "}\n",
              "\n",
              "dl.xr-attrs {\n",
              "  padding: 0;\n",
              "  margin: 0;\n",
              "  display: grid;\n",
              "  grid-template-columns: 125px auto;\n",
              "}\n",
              "\n",
              ".xr-attrs dt,\n",
              ".xr-attrs dd {\n",
              "  padding: 0;\n",
              "  margin: 0;\n",
              "  float: left;\n",
              "  padding-right: 10px;\n",
              "  width: auto;\n",
              "}\n",
              "\n",
              ".xr-attrs dt {\n",
              "  font-weight: normal;\n",
              "  grid-column: 1;\n",
              "}\n",
              "\n",
              ".xr-attrs dt:hover span {\n",
              "  display: inline-block;\n",
              "  background: var(--xr-background-color);\n",
              "  padding-right: 10px;\n",
              "}\n",
              "\n",
              ".xr-attrs dd {\n",
              "  grid-column: 2;\n",
              "  white-space: pre-wrap;\n",
              "  word-break: break-all;\n",
              "}\n",
              "\n",
              ".xr-icon-database,\n",
              ".xr-icon-file-text2,\n",
              ".xr-no-icon {\n",
              "  display: inline-block;\n",
              "  vertical-align: middle;\n",
              "  width: 1em;\n",
              "  height: 1.5em !important;\n",
              "  stroke-width: 0;\n",
              "  stroke: currentColor;\n",
              "  fill: currentColor;\n",
              "}\n",
              "</style><pre class='xr-text-repr-fallback'>&lt;xarray.DataArray &#x27;Time&#x27; (Time: 10)&gt;\n",
              "array([ 31104000000000000,  62208000000000000,  93312000000000000,\n",
              "       124416000000000000, 155520000000000000, 186624000000000000,\n",
              "       217728000000000000, 248832000000000000, 279936000000000000,\n",
              "       311040000000000000], dtype=&#x27;timedelta64[ns]&#x27;)\n",
              "Coordinates:\n",
              "  * Time     (Time) timedelta64[ns] 360 days 720 days ... 3240 days 3600 days\n",
              "Attributes:\n",
              "    long_name:    Time\n",
              "    time_origin:  01-JAN-1900 00:00:00</pre><div class='xr-wrap' style='display:none'><div class='xr-header'><div class='xr-obj-type'>xarray.DataArray</div><div class='xr-array-name'>'Time'</div><ul class='xr-dim-list'><li><span class='xr-has-index'>Time</span>: 10</li></ul></div><ul class='xr-sections'><li class='xr-section-item'><div class='xr-array-wrap'><input id='section-e43c5056-475f-4fea-a97b-ab7e69ee8535' class='xr-array-in' type='checkbox' checked><label for='section-e43c5056-475f-4fea-a97b-ab7e69ee8535' title='Show/hide data repr'><svg class='icon xr-icon-database'><use xlink:href='#icon-database'></use></svg></label><div class='xr-array-preview xr-preview'><span>360 days 720 days 1080 days ... 2880 days 3240 days 3600 days</span></div><div class='xr-array-data'><pre>array([ 31104000000000000,  62208000000000000,  93312000000000000,\n",
              "       124416000000000000, 155520000000000000, 186624000000000000,\n",
              "       217728000000000000, 248832000000000000, 279936000000000000,\n",
              "       311040000000000000], dtype=&#x27;timedelta64[ns]&#x27;)</pre></div></div></li><li class='xr-section-item'><input id='section-45d745a4-670e-49a5-a4bb-9039966267bf' class='xr-section-summary-in' type='checkbox'  checked><label for='section-45d745a4-670e-49a5-a4bb-9039966267bf' class='xr-section-summary' >Coordinates: <span>(1)</span></label><div class='xr-section-inline-details'></div><div class='xr-section-details'><ul class='xr-var-list'><li class='xr-var-item'><div class='xr-var-name'><span class='xr-has-index'>Time</span></div><div class='xr-var-dims'>(Time)</div><div class='xr-var-dtype'>timedelta64[ns]</div><div class='xr-var-preview xr-preview'>360 days 720 days ... 3600 days</div><input id='attrs-0c7f8ac2-ccf2-40e5-9f5b-4bdd35bb5edf' class='xr-var-attrs-in' type='checkbox' ><label for='attrs-0c7f8ac2-ccf2-40e5-9f5b-4bdd35bb5edf' title='Show/Hide attributes'><svg class='icon xr-icon-file-text2'><use xlink:href='#icon-file-text2'></use></svg></label><input id='data-5020e2fa-f76a-49cc-ac0b-f12bbf423380' class='xr-var-data-in' type='checkbox'><label for='data-5020e2fa-f76a-49cc-ac0b-f12bbf423380' title='Show/Hide data repr'><svg class='icon xr-icon-database'><use xlink:href='#icon-database'></use></svg></label><div class='xr-var-attrs'><dl class='xr-attrs'><dt><span>long_name :</span></dt><dd>Time</dd><dt><span>time_origin :</span></dt><dd>01-JAN-1900 00:00:00</dd></dl></div><div class='xr-var-data'><pre>array([ 31104000000000000,  62208000000000000,  93312000000000000,\n",
              "       124416000000000000, 155520000000000000, 186624000000000000,\n",
              "       217728000000000000, 248832000000000000, 279936000000000000,\n",
              "       311040000000000000], dtype=&#x27;timedelta64[ns]&#x27;)</pre></div></li></ul></div></li><li class='xr-section-item'><input id='section-f4ce2529-d947-480e-a0f7-4a0d3dc0ab84' class='xr-section-summary-in' type='checkbox'  ><label for='section-f4ce2529-d947-480e-a0f7-4a0d3dc0ab84' class='xr-section-summary' >Indexes: <span>(1)</span></label><div class='xr-section-inline-details'></div><div class='xr-section-details'><ul class='xr-var-list'><li class='xr-var-item'><div class='xr-index-name'><div>Time</div></div><div class='xr-index-preview'>PandasIndex</div><div></div><input id='index-9d910f6c-63de-47de-9c87-4336c8d6478f' class='xr-index-data-in' type='checkbox'/><label for='index-9d910f6c-63de-47de-9c87-4336c8d6478f' title='Show/Hide index repr'><svg class='icon xr-icon-database'><use xlink:href='#icon-database'></use></svg></label><div class='xr-index-data'><pre>PandasIndex(TimedeltaIndex([ &#x27;360 days&#x27;,  &#x27;720 days&#x27;, &#x27;1080 days&#x27;, &#x27;1440 days&#x27;,\n",
              "                &#x27;1800 days&#x27;, &#x27;2160 days&#x27;, &#x27;2520 days&#x27;, &#x27;2880 days&#x27;,\n",
              "                &#x27;3240 days&#x27;, &#x27;3600 days&#x27;],\n",
              "               dtype=&#x27;timedelta64[ns]&#x27;, name=&#x27;Time&#x27;, freq=None))</pre></div></li></ul></div></li><li class='xr-section-item'><input id='section-ea8d517d-9fe8-4d1e-9865-aa6b74d08a0d' class='xr-section-summary-in' type='checkbox'  checked><label for='section-ea8d517d-9fe8-4d1e-9865-aa6b74d08a0d' class='xr-section-summary' >Attributes: <span>(2)</span></label><div class='xr-section-inline-details'></div><div class='xr-section-details'><dl class='xr-attrs'><dt><span>long_name :</span></dt><dd>Time</dd><dt><span>time_origin :</span></dt><dd>01-JAN-1900 00:00:00</dd></dl></div></li></ul></div></div>"
            ]
          },
          "metadata": {},
          "execution_count": 63
        }
      ]
    },
    {
      "cell_type": "code",
      "source": [
        "years = ds_ovr[\"Time\"] / np.timedelta64(360, \"D\")"
      ],
      "metadata": {
        "id": "aKioyjsGRa4L"
      },
      "execution_count": null,
      "outputs": []
    },
    {
      "cell_type": "code",
      "source": [
        "ds_ovr = ds_ovr.assign_coords(years=(\"Time\", years.data))"
      ],
      "metadata": {
        "id": "roE4SxicRd0y"
      },
      "execution_count": null,
      "outputs": []
    },
    {
      "cell_type": "code",
      "source": [
        "(\n",
        "    ds_ovr.vsf_depth\n",
        "    .sel(zw=slice(-1810., -550.), yu=slice(40., 60.))\n",
        "    .min(dim=(\"yu\", \"zw\"))\n",
        "    .plot(x=\"years\")\n",
        ")"
      ],
      "metadata": {
        "colab": {
          "base_uri": "https://localhost:8080/",
          "height": 296
        },
        "id": "A48jInQuRhpT",
        "outputId": "a0b17527-31d3-4c6d-e760-74350481abba"
      },
      "execution_count": null,
      "outputs": [
        {
          "output_type": "execute_result",
          "data": {
            "text/plain": [
              "[<matplotlib.lines.Line2D at 0x7fa86725e790>]"
            ]
          },
          "metadata": {},
          "execution_count": 66
        },
        {
          "output_type": "display_data",
          "data": {
            "text/plain": [
              "<Figure size 432x288 with 1 Axes>"
            ],
            "image/png": "[encoded data removed]"
          },
          "metadata": {
            "needs_background": "light"
          }
        }
      ]
    }
  ]
}